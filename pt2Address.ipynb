{
 "cells": [
  {
   "cell_type": "markdown",
   "metadata": {},
   "source": [
    "流程\n",
    "* Geopanda讀取\n",
    "    * [fiona - Save Start/End Points in another shapefile using Shapely - Geographic Information Systems Stack Exchange](https://gis.stackexchange.com/questions/203134/save-start-end-points-in-another-shapefile-using-shapely)\n",
    "* 每一條 polyline為一單位 匯成一個 Array 清單\n",
    "* 每一條 polyline 所有節點搜尋出來\n",
    "* 打 API  轉成地址清單\n",
    "    * https://gist.motc.gov.tw/gist_api/swagger/ui/index\n",
    "* 將地址清單做個排序篩選出 始末 清單"
   ]
  },
  {
   "cell_type": "code",
   "execution_count": 3,
   "metadata": {},
   "outputs": [],
   "source": [
    "import geopandas as gpd\n",
    "roadList=gpd.read_file('./roadInRangeSample.geojson',encoding='utf-8')"
   ]
  },
  {
   "cell_type": "code",
   "execution_count": 4,
   "metadata": {},
   "outputs": [
    {
     "data": {
      "text/html": [
       "<div>\n",
       "<style scoped>\n",
       "    .dataframe tbody tr th:only-of-type {\n",
       "        vertical-align: middle;\n",
       "    }\n",
       "\n",
       "    .dataframe tbody tr th {\n",
       "        vertical-align: top;\n",
       "    }\n",
       "\n",
       "    .dataframe thead th {\n",
       "        text-align: right;\n",
       "    }\n",
       "</style>\n",
       "<table border=\"1\" class=\"dataframe\">\n",
       "  <thead>\n",
       "    <tr style=\"text-align: right;\">\n",
       "      <th></th>\n",
       "      <th>NAME</th>\n",
       "      <th>ALIAS</th>\n",
       "      <th>CLASS</th>\n",
       "      <th>INDEX</th>\n",
       "      <th>TYPE</th>\n",
       "      <th>RNAME</th>\n",
       "      <th>SNAME</th>\n",
       "      <th>LNAME</th>\n",
       "      <th>ANAME</th>\n",
       "      <th>FACILITY</th>\n",
       "      <th>STOP</th>\n",
       "      <th>LENGTH</th>\n",
       "      <th>geometry</th>\n",
       "    </tr>\n",
       "  </thead>\n",
       "  <tbody>\n",
       "    <tr>\n",
       "      <td>0</td>\n",
       "      <td>精科路</td>\n",
       "      <td>精科路</td>\n",
       "      <td>6</td>\n",
       "      <td>None</td>\n",
       "      <td>1</td>\n",
       "      <td>精科路</td>\n",
       "      <td>None</td>\n",
       "      <td>None</td>\n",
       "      <td>None</td>\n",
       "      <td>None</td>\n",
       "      <td>None</td>\n",
       "      <td>838</td>\n",
       "      <td>MULTILINESTRING ((120.59991 24.14267, 120.5999...</td>\n",
       "    </tr>\n",
       "    <tr>\n",
       "      <td>1</td>\n",
       "      <td>中台路308巷</td>\n",
       "      <td>中台路308巷</td>\n",
       "      <td>6</td>\n",
       "      <td>None</td>\n",
       "      <td>1</td>\n",
       "      <td>中台路</td>\n",
       "      <td>None</td>\n",
       "      <td>308巷</td>\n",
       "      <td>None</td>\n",
       "      <td>None</td>\n",
       "      <td>None</td>\n",
       "      <td>68</td>\n",
       "      <td>MULTILINESTRING ((120.59438 24.13933, 120.5943...</td>\n",
       "    </tr>\n",
       "    <tr>\n",
       "      <td>2</td>\n",
       "      <td>建功路256巷</td>\n",
       "      <td>建功路256巷</td>\n",
       "      <td>6</td>\n",
       "      <td>None</td>\n",
       "      <td>1</td>\n",
       "      <td>建功路</td>\n",
       "      <td>None</td>\n",
       "      <td>256巷</td>\n",
       "      <td>None</td>\n",
       "      <td>None</td>\n",
       "      <td>None</td>\n",
       "      <td>84</td>\n",
       "      <td>MULTILINESTRING ((120.60455 24.13624, 120.6045...</td>\n",
       "    </tr>\n",
       "    <tr>\n",
       "      <td>3</td>\n",
       "      <td>文山路</td>\n",
       "      <td>文山路</td>\n",
       "      <td>6</td>\n",
       "      <td>None</td>\n",
       "      <td>1</td>\n",
       "      <td>文山路</td>\n",
       "      <td>None</td>\n",
       "      <td>None</td>\n",
       "      <td>None</td>\n",
       "      <td>None</td>\n",
       "      <td>None</td>\n",
       "      <td>238</td>\n",
       "      <td>MULTILINESTRING ((120.60955 24.14451, 120.6093...</td>\n",
       "    </tr>\n",
       "    <tr>\n",
       "      <td>4</td>\n",
       "      <td>精科中一路</td>\n",
       "      <td>精科中一路</td>\n",
       "      <td>6</td>\n",
       "      <td>None</td>\n",
       "      <td>1</td>\n",
       "      <td>精科中一路</td>\n",
       "      <td>None</td>\n",
       "      <td>None</td>\n",
       "      <td>None</td>\n",
       "      <td>None</td>\n",
       "      <td>None</td>\n",
       "      <td>1</td>\n",
       "      <td>MULTILINESTRING ((120.58986 24.15050, 120.5899...</td>\n",
       "    </tr>\n",
       "  </tbody>\n",
       "</table>\n",
       "</div>"
      ],
      "text/plain": [
       "      NAME    ALIAS  CLASS INDEX  TYPE  RNAME SNAME LNAME ANAME FACILITY  \\\n",
       "0      精科路      精科路      6  None     1    精科路  None  None  None     None   \n",
       "1  中台路308巷  中台路308巷      6  None     1    中台路  None  308巷  None     None   \n",
       "2  建功路256巷  建功路256巷      6  None     1    建功路  None  256巷  None     None   \n",
       "3      文山路      文山路      6  None     1    文山路  None  None  None     None   \n",
       "4    精科中一路    精科中一路      6  None     1  精科中一路  None  None  None     None   \n",
       "\n",
       "   STOP  LENGTH                                           geometry  \n",
       "0  None     838  MULTILINESTRING ((120.59991 24.14267, 120.5999...  \n",
       "1  None      68  MULTILINESTRING ((120.59438 24.13933, 120.5943...  \n",
       "2  None      84  MULTILINESTRING ((120.60455 24.13624, 120.6045...  \n",
       "3  None     238  MULTILINESTRING ((120.60955 24.14451, 120.6093...  \n",
       "4  None       1  MULTILINESTRING ((120.58986 24.15050, 120.5899...  "
      ]
     },
     "execution_count": 4,
     "metadata": {},
     "output_type": "execute_result"
    }
   ],
   "source": [
    "roadList.head()"
   ]
  },
  {
   "cell_type": "code",
   "execution_count": 5,
   "metadata": {},
   "outputs": [
    {
     "data": {
      "text/plain": [
       "<generator object DataFrame.iterrows at 0x124206650>"
      ]
     },
     "execution_count": 5,
     "metadata": {},
     "output_type": "execute_result"
    }
   ],
   "source": [
    "roadList.iterrows()"
   ]
  },
  {
   "cell_type": "markdown",
   "metadata": {},
   "source": [
    "(0, NAME                                                      精科路\n",
    "ALIAS                                                     精科路\n",
    "CLASS                                                       6\n",
    "INDEX                                                    None\n",
    "TYPE                                                        1\n",
    "RNAME                                                     精科路\n",
    "SNAME                                                    None\n",
    "LNAME                                                    None\n",
    "ANAME                                                    None\n",
    "FACILITY                                                 None\n",
    "STOP                                                     None\n",
    "LENGTH                                                    838"
   ]
  },
  {
   "cell_type": "code",
   "execution_count": 6,
   "metadata": {},
   "outputs": [
    {
     "ename": "NameError",
     "evalue": "name 'row' is not defined",
     "output_type": "error",
     "traceback": [
      "\u001b[0;31m---------------------------------------------------------------------------\u001b[0m",
      "\u001b[0;31mNameError\u001b[0m                                 Traceback (most recent call last)",
      "\u001b[0;32m<ipython-input-6-dc0850c598d5>\u001b[0m in \u001b[0;36m<module>\u001b[0;34m\u001b[0m\n\u001b[1;32m      1\u001b[0m \u001b[0mroadList\u001b[0m\u001b[0;34m[\u001b[0m\u001b[0;34m'geometry'\u001b[0m\u001b[0;34m]\u001b[0m\u001b[0;34m[\u001b[0m\u001b[0;36m0\u001b[0m\u001b[0;34m]\u001b[0m\u001b[0;34m\u001b[0m\u001b[0;34m\u001b[0m\u001b[0m\n\u001b[0;32m----> 2\u001b[0;31m \u001b[0mrow\u001b[0m\u001b[0;34m.\u001b[0m\u001b[0mgeometry\u001b[0m\u001b[0;34m.\u001b[0m\u001b[0mtype\u001b[0m\u001b[0;34m\u001b[0m\u001b[0;34m\u001b[0m\u001b[0m\n\u001b[0m",
      "\u001b[0;31mNameError\u001b[0m: name 'row' is not defined"
     ]
    }
   ],
   "source": [
    "roadList['geometry'][0]\n",
    "row.geometry.type"
   ]
  },
  {
   "cell_type": "markdown",
   "metadata": {},
   "source": [
    "以此 路段 為例子就包含了 682 條路\n",
    "其中包含的 節點 可能就有幾萬個"
   ]
  },
  {
   "cell_type": "code",
   "execution_count": null,
   "metadata": {},
   "outputs": [],
   "source": [
    "for i, row in roadList.iterrows():\n",
    "    print('------------------')\n",
    "    for polyline in row.geometry:\n",
    "            print(polyline)"
   ]
  },
  {
   "cell_type": "markdown",
   "metadata": {},
   "source": [
    "* 一條 multi polyline 包含太多條 line\n",
    "* 一條 multi polyline 包含了超多節點(800點以上)\n",
    "* 打 API 會使整個流程相當沒效率\n",
    "* 透過縮節點嘗試解決\n",
    "    * 線間的交集點\n",
    "        * QGIS測試先切出線交集節點進行測試\n",
    "        * 打 API 轉換成地址\n",
    "    * 路網 + polygon 交集點\n",
    "    \n",
    "    \n"
   ]
  },
  {
   "cell_type": "code",
   "execution_count": 7,
   "metadata": {},
   "outputs": [
    {
     "data": {
      "text/plain": [
       "0    24.142665\n",
       "1    24.143069\n",
       "2    24.148021\n",
       "3    24.142745\n",
       "4    24.143069\n",
       "dtype: float64"
      ]
     },
     "execution_count": 7,
     "metadata": {},
     "output_type": "execute_result"
    }
   ],
   "source": [
    "import geopandas as gpd\n",
    "lineIsPt=gpd.read_file('./lineIntersecPt.geojson',encoding='utf-8')\n",
    "lineIsPt.geometry.x.head()\n",
    "lineIsPt.geometry.y.head()"
   ]
  },
  {
   "cell_type": "code",
   "execution_count": 8,
   "metadata": {},
   "outputs": [
    {
     "data": {
      "text/html": [
       "<div>\n",
       "<style scoped>\n",
       "    .dataframe tbody tr th:only-of-type {\n",
       "        vertical-align: middle;\n",
       "    }\n",
       "\n",
       "    .dataframe tbody tr th {\n",
       "        vertical-align: top;\n",
       "    }\n",
       "\n",
       "    .dataframe thead th {\n",
       "        text-align: right;\n",
       "    }\n",
       "</style>\n",
       "<table border=\"1\" class=\"dataframe\">\n",
       "  <thead>\n",
       "    <tr style=\"text-align: right;\">\n",
       "      <th></th>\n",
       "      <th>NAME_1</th>\n",
       "      <th>NAME_2</th>\n",
       "      <th>geometry</th>\n",
       "    </tr>\n",
       "  </thead>\n",
       "  <tbody>\n",
       "    <tr>\n",
       "      <td>0</td>\n",
       "      <td>精科路</td>\n",
       "      <td>培德路</td>\n",
       "      <td>POINT (120.59991 24.14267)</td>\n",
       "    </tr>\n",
       "    <tr>\n",
       "      <td>1</td>\n",
       "      <td>精科路</td>\n",
       "      <td>精科中路</td>\n",
       "      <td>POINT (120.60111 24.14307)</td>\n",
       "    </tr>\n",
       "    <tr>\n",
       "      <td>2</td>\n",
       "      <td>精科路</td>\n",
       "      <td>精科北路</td>\n",
       "      <td>POINT (120.60679 24.14802)</td>\n",
       "    </tr>\n",
       "    <tr>\n",
       "      <td>3</td>\n",
       "      <td>精科路</td>\n",
       "      <td>None</td>\n",
       "      <td>POINT (120.60018 24.14274)</td>\n",
       "    </tr>\n",
       "    <tr>\n",
       "      <td>4</td>\n",
       "      <td>精科路</td>\n",
       "      <td>精科東路</td>\n",
       "      <td>POINT (120.60111 24.14307)</td>\n",
       "    </tr>\n",
       "  </tbody>\n",
       "</table>\n",
       "</div>"
      ],
      "text/plain": [
       "  NAME_1 NAME_2                    geometry\n",
       "0    精科路    培德路  POINT (120.59991 24.14267)\n",
       "1    精科路   精科中路  POINT (120.60111 24.14307)\n",
       "2    精科路   精科北路  POINT (120.60679 24.14802)\n",
       "3    精科路   None  POINT (120.60018 24.14274)\n",
       "4    精科路   精科東路  POINT (120.60111 24.14307)"
      ]
     },
     "execution_count": 8,
     "metadata": {},
     "output_type": "execute_result"
    }
   ],
   "source": [
    "lineIsPt.head()"
   ]
  },
  {
   "cell_type": "markdown",
   "metadata": {},
   "source": [
    "#### 測試範例\n",
    "* httplib2 傳送 GET 請求\n"
   ]
  },
  {
   "cell_type": "code",
   "execution_count": 11,
   "metadata": {},
   "outputs": [
    {
     "data": {
      "text/plain": [
       "b'{\"type\":\"FeatureCollection\",\"features\":[{\"type\":\"Feature\",\"geometry\":{\"type\":\"Point\",\"coordinates\":[121.6045812569886,23.509762481675281]},\"properties\":{\"model\":{\"Addr\":\"\\xe6\\xbe\\x8e\\xe6\\xb9\\x96\\xe7\\xb8\\xa3\\xe9\\xa6\\xac\\xe5\\x85\\xac\\xe5\\xb8\\x82\\xe5\\xb1\\xb1\\xe6\\xb0\\xb4\\xe9\\x87\\x8c\\xe7\\x8f\\xa0\\xe6\\xb1\\x9f600\\xe8\\x99\\x9f\"}}}]}'"
      ]
     },
     "execution_count": 11,
     "metadata": {},
     "output_type": "execute_result"
    }
   ],
   "source": [
    "import httplib2\n",
    "h = httplib2.Http()\n",
    "url = 'https://gist.motc.gov.tw/gist_api/V2/Map/GeoCode/Address/23.5,122,5?$format=GEOJSON'\n",
    "resp, content = h.request(url)\n",
    "content"
   ]
  },
  {
   "cell_type": "markdown",
   "metadata": {},
   "source": [
    "速度非常慢，換另外一套測試"
   ]
  },
  {
   "cell_type": "code",
   "execution_count": null,
   "metadata": {},
   "outputs": [],
   "source": [
    "# 引入 requests 模組\n",
    "import requests\n",
    "url = 'https://gist.motc.gov.tw/gist_api/V2/Map/GeoCode/Address/23.5,122,5?$format=GEOJSON'\n",
    "# 使用 GET 方式下載普通網頁\n",
    "r = requests.get(url)\n",
    "print (r)"
   ]
  },
  {
   "cell_type": "markdown",
   "metadata": {},
   "source": [
    "一樣慢，API應該有阻檔或限制"
   ]
  },
  {
   "cell_type": "code",
   "execution_count": null,
   "metadata": {},
   "outputs": [],
   "source": [
    "# byte 轉 str\n",
    "str(content, encoding = \"utf-8\")"
   ]
  },
  {
   "cell_type": "markdown",
   "metadata": {},
   "source": [
    "#### 實戰"
   ]
  },
  {
   "cell_type": "code",
   "execution_count": 328,
   "metadata": {},
   "outputs": [],
   "source": [
    "# 引入相關套件\n",
    "import httplib2\n",
    "import json\n",
    "import csv\n",
    "# 繪圖套件\n",
    "%matplotlib inline\n",
    "\n",
    "\n",
    "h = httplib2.Http()"
   ]
  },
  {
   "cell_type": "code",
   "execution_count": null,
   "metadata": {},
   "outputs": [],
   "source": [
    "len(lineIsPt.geometry)"
   ]
  },
  {
   "cell_type": "code",
   "execution_count": null,
   "metadata": {},
   "outputs": [],
   "source": [
    "container = []\n",
    "for i in range(10):\n",
    "    x = lineIsPt.geometry.x[i]\n",
    "    y = lineIsPt.geometry.y[i]\n",
    "    container.append([y,x])\n",
    "    \n",
    "print(container)\n"
   ]
  },
  {
   "cell_type": "code",
   "execution_count": null,
   "metadata": {},
   "outputs": [],
   "source": [
    "for i in range(10):\n",
    "    x = str(lineIsPt.geometry.x[i])\n",
    "    y = str(lineIsPt.geometry.y[i])\n",
    "    \n",
    "    xy = y+','+x\n",
    "    res = f'https://gist.motc.gov.tw/gist_api/V2/Map/GeoCode/Address/{xy}?$format=GEOJSON'\n",
    "    container.append(res)\n",
    "    \n",
    "container"
   ]
  },
  {
   "cell_type": "code",
   "execution_count": 72,
   "metadata": {},
   "outputs": [
    {
     "data": {
      "text/html": [
       "<div>\n",
       "<style scoped>\n",
       "    .dataframe tbody tr th:only-of-type {\n",
       "        vertical-align: middle;\n",
       "    }\n",
       "\n",
       "    .dataframe tbody tr th {\n",
       "        vertical-align: top;\n",
       "    }\n",
       "\n",
       "    .dataframe thead th {\n",
       "        text-align: right;\n",
       "    }\n",
       "</style>\n",
       "<table border=\"1\" class=\"dataframe\">\n",
       "  <thead>\n",
       "    <tr style=\"text-align: right;\">\n",
       "      <th></th>\n",
       "      <th>NAME_1</th>\n",
       "      <th>NAME_2</th>\n",
       "      <th>geometry</th>\n",
       "    </tr>\n",
       "  </thead>\n",
       "  <tbody>\n",
       "    <tr>\n",
       "      <td>0</td>\n",
       "      <td>精科路</td>\n",
       "      <td>培德路</td>\n",
       "      <td>POINT (120.59991 24.14267)</td>\n",
       "    </tr>\n",
       "    <tr>\n",
       "      <td>1</td>\n",
       "      <td>精科路</td>\n",
       "      <td>精科中路</td>\n",
       "      <td>POINT (120.60111 24.14307)</td>\n",
       "    </tr>\n",
       "    <tr>\n",
       "      <td>2</td>\n",
       "      <td>精科路</td>\n",
       "      <td>精科北路</td>\n",
       "      <td>POINT (120.60679 24.14802)</td>\n",
       "    </tr>\n",
       "    <tr>\n",
       "      <td>3</td>\n",
       "      <td>精科路</td>\n",
       "      <td>None</td>\n",
       "      <td>POINT (120.60018 24.14274)</td>\n",
       "    </tr>\n",
       "    <tr>\n",
       "      <td>4</td>\n",
       "      <td>精科路</td>\n",
       "      <td>精科東路</td>\n",
       "      <td>POINT (120.60111 24.14307)</td>\n",
       "    </tr>\n",
       "  </tbody>\n",
       "</table>\n",
       "</div>"
      ],
      "text/plain": [
       "  NAME_1 NAME_2                    geometry\n",
       "0    精科路    培德路  POINT (120.59991 24.14267)\n",
       "1    精科路   精科中路  POINT (120.60111 24.14307)\n",
       "2    精科路   精科北路  POINT (120.60679 24.14802)\n",
       "3    精科路   None  POINT (120.60018 24.14274)\n",
       "4    精科路   精科東路  POINT (120.60111 24.14307)"
      ]
     },
     "execution_count": 72,
     "metadata": {},
     "output_type": "execute_result"
    }
   ],
   "source": [
    "lineIsPt.head()"
   ]
  },
  {
   "cell_type": "markdown",
   "metadata": {},
   "source": [
    "遇到超時問題\n",
    "\n",
    "引入 socket 解決\n",
    "\n",
    "```python\n",
    "socket.setdefaulttimeout(100000000)\n",
    "```"
   ]
  },
  {
   "cell_type": "code",
   "execution_count": 92,
   "metadata": {},
   "outputs": [
    {
     "ename": "TypeError",
     "evalue": "'list' object is not callable",
     "output_type": "error",
     "traceback": [
      "\u001b[0;31m---------------------------------------------------------------------------\u001b[0m",
      "\u001b[0;31mTypeError\u001b[0m                                 Traceback (most recent call last)",
      "\u001b[0;32m<ipython-input-92-3e365a1272b4>\u001b[0m in \u001b[0;36m<module>\u001b[0;34m\u001b[0m\n\u001b[1;32m     17\u001b[0m     \u001b[0mcontainer\u001b[0m\u001b[0;34m.\u001b[0m\u001b[0mappend\u001b[0m\u001b[0;34m(\u001b[0m\u001b[0mjson\u001b[0m\u001b[0;34m.\u001b[0m\u001b[0mloads\u001b[0m\u001b[0;34m(\u001b[0m\u001b[0mstr\u001b[0m\u001b[0;34m(\u001b[0m\u001b[0mcontent\u001b[0m\u001b[0;34m,\u001b[0m \u001b[0mencoding\u001b[0m \u001b[0;34m=\u001b[0m \u001b[0;34m\"utf-8\"\u001b[0m\u001b[0;34m)\u001b[0m\u001b[0;34m)\u001b[0m\u001b[0;34m)\u001b[0m\u001b[0;34m\u001b[0m\u001b[0;34m\u001b[0m\u001b[0m\n\u001b[1;32m     18\u001b[0m \u001b[0;34m\u001b[0m\u001b[0m\n\u001b[0;32m---> 19\u001b[0;31m \u001b[0mcontainer\u001b[0m\u001b[0;34m(\u001b[0m\u001b[0;34m)\u001b[0m\u001b[0;34m\u001b[0m\u001b[0;34m\u001b[0m\u001b[0m\n\u001b[0m",
      "\u001b[0;31mTypeError\u001b[0m: 'list' object is not callable"
     ]
    }
   ],
   "source": [
    "import httplib2\n",
    "import json\n",
    "import socket \n",
    "socket.setdefaulttimeout(100000000)\n",
    "\n",
    "h = httplib2.Http(timeout=None)\n",
    "container = []\n",
    "\n",
    "container = []\n",
    "# for i in range(10):\n",
    "for i in range(lineIsPt.index.stop):\n",
    "    x = str(lineIsPt.geometry.x[i])\n",
    "    y = str(lineIsPt.geometry.y[i])\n",
    "    xy = y+','+x\n",
    "    resUrl = f'https://gist.motc.gov.tw/gist_api/V2/Map/GeoCode/Address/{xy}?$format=GEOJSON'\n",
    "    res, content = h.request(resUrl)\n",
    "    container.append(json.loads(str(content, encoding = \"utf-8\")))\n",
    "    \n",
    "container"
   ]
  },
  {
   "cell_type": "code",
   "execution_count": 95,
   "metadata": {},
   "outputs": [
    {
     "name": "stdout",
     "output_type": "stream",
     "text": [
      "444\n",
      "<class 'dict'>\n"
     ]
    }
   ],
   "source": [
    "print(len(container))\n",
    "print(type(container[0]))"
   ]
  },
  {
   "cell_type": "markdown",
   "metadata": {},
   "source": [
    "將 444 個節點計算出來並存成 csv"
   ]
  },
  {
   "cell_type": "code",
   "execution_count": 112,
   "metadata": {},
   "outputs": [
    {
     "name": "stdout",
     "output_type": "stream",
     "text": [
      "[120.5996308508481, 24.14229158797876, '台中市南屯區春社里培德路7號'] [120.5931833962524, 24.13916223830457, '台中市南屯區春社里中台路317巷2號']\n",
      "<class 'list'>\n"
     ]
    }
   ],
   "source": [
    "myResData = []\n",
    "\n",
    "for i in container:\n",
    "    myResData.append([\n",
    "        i['features'][0]['geometry']['coordinates'][0],\n",
    "        i['features'][0]['geometry']['coordinates'][1],\n",
    "        i['features'][0]['properties']['model']['Addr']\n",
    "    ])\n",
    "print(myResData[0],myResData[-1])\n",
    "print(type(myResData[0]))"
   ]
  },
  {
   "cell_type": "code",
   "execution_count": 55,
   "metadata": {},
   "outputs": [
    {
     "name": "stdout",
     "output_type": "stream",
     "text": [
      "120.5996308508481 24.14229158797876 台中市南屯區春社里培德路7號\n",
      "120.6009109336114 24.14252298118082 台中市南屯區春社里精科路2號\n",
      "120.6062307321551 24.14751725360878 台中市南屯區文山里精科路28號\n",
      "120.5996308508481 24.14229158797876 台中市南屯區春社里培德路7號\n",
      "120.6009109336114 24.14252298118082 台中市南屯區春社里精科路2號\n",
      "120.6062307321551 24.14751725360878 台中市南屯區文山里精科路28號\n",
      "120.6082305515638 24.14873859268674 台中市南屯區文山里精科路112號\n",
      "120.5943328215131 24.13940972800623 台中市南屯區春社里中台路310巷1之1號\n",
      "120.6042334419134 24.136863556312 台中市南屯區春社里建功路256巷22號\n",
      "120.6042334419134 24.136863556312 台中市南屯區春社里建功路256巷22號\n"
     ]
    }
   ],
   "source": [
    "for i in myResData:\n",
    "    print(i[0], i[1], i[2]) "
   ]
  },
  {
   "cell_type": "code",
   "execution_count": 113,
   "metadata": {},
   "outputs": [],
   "source": [
    "import csv\n",
    "\n",
    "# 開啟輸出的 CSV 檔案\n",
    "with open('addressRes.csv', 'w', newline='') as csvfile:\n",
    "    # 建立 CSV 檔寫入器\n",
    "    writer = csv.writer(csvfile)\n",
    "    # 寫入第一列資料\n",
    "    writer.writerow(['Lon', 'Lat', 'Address'])\n",
    "    \n",
    "    #迴圈寫入資料\n",
    "    for i in myResData:\n",
    "        writer.writerow([i[0], i[1], i[2]])    "
   ]
  },
  {
   "cell_type": "markdown",
   "metadata": {},
   "source": [
    "觀察資料歸納\n",
    "\n",
    "問題\n",
    "* 有重複地址\n",
    "* 上下左右等敘述 - 例如地下一層"
   ]
  },
  {
   "cell_type": "markdown",
   "metadata": {},
   "source": [
    "嘗試透過 shapely + fiona 直接抓取:\n",
    "* 起始點\n",
    "* 結束點\n",
    "* 中間節點\n",
    "    "
   ]
  },
  {
   "cell_type": "code",
   "execution_count": 115,
   "metadata": {},
   "outputs": [],
   "source": [
    "from shapely.geometry import Point, shape\n",
    "import fiona"
   ]
  },
  {
   "cell_type": "code",
   "execution_count": 128,
   "metadata": {},
   "outputs": [
    {
     "data": {
      "text/plain": [
       "list"
      ]
     },
     "execution_count": 128,
     "metadata": {},
     "output_type": "execute_result"
    }
   ],
   "source": [
    "lines = [shape(line['geometry']) for line in fiona.open(\"roadInRangeSample.geojson\")]\n",
    "type(lines)"
   ]
  },
  {
   "cell_type": "code",
   "execution_count": 133,
   "metadata": {},
   "outputs": [
    {
     "ename": "SyntaxError",
     "evalue": "invalid syntax (<ipython-input-133-720fac436119>, line 3)",
     "output_type": "error",
     "traceback": [
      "\u001b[0;36m  File \u001b[0;32m\"<ipython-input-133-720fac436119>\"\u001b[0;36m, line \u001b[0;32m3\u001b[0m\n\u001b[0;31m    print(line)d\u001b[0m\n\u001b[0m               ^\u001b[0m\n\u001b[0;31mSyntaxError\u001b[0m\u001b[0;31m:\u001b[0m invalid syntax\n"
     ]
    }
   ],
   "source": [
    "for i in lines:\n",
    "    for line in i:\n",
    "        print(line)d"
   ]
  },
  {
   "cell_type": "code",
   "execution_count": 139,
   "metadata": {},
   "outputs": [],
   "source": [
    "endpts = [\n",
    "    (\n",
    "        Point(list(line.coords)[0]),\n",
    "        Point(list(line.coords)[-1])\n",
    "    )\n",
    "    # 先取出 multiline     \n",
    "    for multiLines in lines\n",
    "    # 再從 multiLine 取出各條路\n",
    "    for line in multiLines\n",
    "]\n",
    "# flatten the resulting list to a simple list of points\n",
    "# endpts= [pt for sublist in endpts  for pt in sublist] "
   ]
  },
  {
   "cell_type": "code",
   "execution_count": 138,
   "metadata": {},
   "outputs": [
    {
     "data": {
      "text/plain": [
       "682"
      ]
     },
     "execution_count": 138,
     "metadata": {},
     "output_type": "execute_result"
    }
   ],
   "source": [
    "len(endpts)"
   ]
  },
  {
   "cell_type": "markdown",
   "metadata": {},
   "source": [
    "保存生成的 shp"
   ]
  },
  {
   "cell_type": "code",
   "execution_count": 156,
   "metadata": {},
   "outputs": [
    {
     "ename": "AttributeError",
     "evalue": "'tuple' object has no attribute '__geo_interface__'",
     "output_type": "error",
     "traceback": [
      "\u001b[0;31m---------------------------------------------------------------------------\u001b[0m",
      "\u001b[0;31mAttributeError\u001b[0m                            Traceback (most recent call last)",
      "\u001b[0;32m<ipython-input-156-f9d313282787>\u001b[0m in \u001b[0;36m<module>\u001b[0;34m\u001b[0m\n\u001b[1;32m      5\u001b[0m \u001b[0;32mwith\u001b[0m \u001b[0mfiona\u001b[0m\u001b[0;34m.\u001b[0m\u001b[0mopen\u001b[0m\u001b[0;34m(\u001b[0m\u001b[0;34m'result.shp'\u001b[0m\u001b[0;34m,\u001b[0m\u001b[0;34m'w'\u001b[0m\u001b[0;34m,\u001b[0m\u001b[0;34m'ESRI Shapefile'\u001b[0m\u001b[0;34m,\u001b[0m \u001b[0mschema\u001b[0m\u001b[0;34m)\u001b[0m \u001b[0;32mas\u001b[0m \u001b[0moutput\u001b[0m\u001b[0;34m:\u001b[0m\u001b[0;34m\u001b[0m\u001b[0;34m\u001b[0m\u001b[0m\n\u001b[1;32m      6\u001b[0m     \u001b[0;32mfor\u001b[0m \u001b[0mi\u001b[0m\u001b[0;34m,\u001b[0m \u001b[0mpt\u001b[0m \u001b[0;32min\u001b[0m \u001b[0menumerate\u001b[0m\u001b[0;34m(\u001b[0m\u001b[0mendpts\u001b[0m\u001b[0;34m)\u001b[0m\u001b[0;34m:\u001b[0m\u001b[0;34m\u001b[0m\u001b[0;34m\u001b[0m\u001b[0m\n\u001b[0;32m----> 7\u001b[0;31m         \u001b[0moutput\u001b[0m\u001b[0;34m.\u001b[0m\u001b[0mwrite\u001b[0m\u001b[0;34m(\u001b[0m\u001b[0;34m{\u001b[0m\u001b[0;34m'geometry'\u001b[0m\u001b[0;34m:\u001b[0m\u001b[0mmapping\u001b[0m\u001b[0;34m(\u001b[0m\u001b[0mpt\u001b[0m\u001b[0;34m)\u001b[0m\u001b[0;34m,\u001b[0m \u001b[0;34m'properties'\u001b[0m\u001b[0;34m:\u001b[0m\u001b[0;34m{\u001b[0m\u001b[0;34m'test'\u001b[0m\u001b[0;34m:\u001b[0m\u001b[0mi\u001b[0m\u001b[0;34m}\u001b[0m\u001b[0;34m}\u001b[0m\u001b[0;34m)\u001b[0m\u001b[0;34m\u001b[0m\u001b[0;34m\u001b[0m\u001b[0m\n\u001b[0m",
      "\u001b[0;32m~/anaconda3/lib/python3.7/site-packages/shapely/geometry/geo.py\u001b[0m in \u001b[0;36mmapping\u001b[0;34m(ob)\u001b[0m\n\u001b[1;32m     80\u001b[0m \u001b[0;32mdef\u001b[0m \u001b[0mmapping\u001b[0m\u001b[0;34m(\u001b[0m\u001b[0mob\u001b[0m\u001b[0;34m)\u001b[0m\u001b[0;34m:\u001b[0m\u001b[0;34m\u001b[0m\u001b[0;34m\u001b[0m\u001b[0m\n\u001b[1;32m     81\u001b[0m     \u001b[0;34m\"\"\"Returns a GeoJSON-like mapping\"\"\"\u001b[0m\u001b[0;34m\u001b[0m\u001b[0;34m\u001b[0m\u001b[0m\n\u001b[0;32m---> 82\u001b[0;31m     \u001b[0;32mreturn\u001b[0m \u001b[0mob\u001b[0m\u001b[0;34m.\u001b[0m\u001b[0m__geo_interface__\u001b[0m\u001b[0;34m\u001b[0m\u001b[0;34m\u001b[0m\u001b[0m\n\u001b[0m",
      "\u001b[0;31mAttributeError\u001b[0m: 'tuple' object has no attribute '__geo_interface__'"
     ]
    }
   ],
   "source": [
    "from shapely.geometry import mapping\n",
    "# schema of the shapefile\n",
    "schema = {'geometry': 'Point','properties': {'test': 'int'}}\n",
    "# creation of the shapefile\n",
    "with fiona.open('result.shp','w','ESRI Shapefile', schema) as output:\n",
    "    for i, pt in enumerate(endpts):\n",
    "        output.write({'geometry':mapping(pt), 'properties':{'test':i}})"
   ]
  },
  {
   "cell_type": "code",
   "execution_count": 145,
   "metadata": {},
   "outputs": [
    {
     "data": {
      "text/plain": [
       "(<shapely.geometry.point.Point at 0x128965b50>,\n",
       " <shapely.geometry.point.Point at 0x1289657d0>)"
      ]
     },
     "execution_count": 145,
     "metadata": {},
     "output_type": "execute_result"
    }
   ],
   "source": [
    "endpts[0]"
   ]
  },
  {
   "cell_type": "code",
   "execution_count": 148,
   "metadata": {},
   "outputs": [],
   "source": [
    "import itertools\n",
    "inters = []\n",
    "for line1,line2 in itertools.combinations(lines, 2):\n",
    "      if  line1.intersects(line2):\n",
    "        inter = line1.intersection(line2)\n",
    "        if \"Point\" == inter.type:\n",
    "            inters.append(inter)\n",
    "        elif \"MultiPoint\" == inter.type:\n",
    "            inters.extend([pt for pt in inter])\n",
    "        elif \"MultiLineString\" == inter.type:\n",
    "            multiLine = [line for line in inter]\n",
    "            first_coords = multiLine[0].coords[0]\n",
    "            last_coords = multiLine[len(multiLine)-1].coords[1]\n",
    "            inters.append(Point(first_coords[0], first_coords[1]))\n",
    "            inters.append(Point(last_coords[0], last_coords[1]))\n",
    "        elif \"GeometryCollection\" == inter.type:\n",
    "            for geom in inter:\n",
    "                if \"Point\" == geom.type:\n",
    "                    inters.append(geom)\n",
    "                elif \"MultiPoint\" == geom.type:\n",
    "                    inters.extend([pt for pt in geom])\n",
    "                elif \"MultiLineString\" == geom.type:\n",
    "                    multiLine = [line for line in geom]\n",
    "                    first_coords = multiLine[0].coords[0]\n",
    "                    last_coords = multiLine[len(multiLine)-1].coords[1]\n",
    "                    inters.append(Point(first_coords[0], first_coords[1]))\n",
    "                    inters.append(Point(last_coords[0], last_coords[1]))"
   ]
  },
  {
   "cell_type": "code",
   "execution_count": 150,
   "metadata": {},
   "outputs": [],
   "source": [
    "result = endpts.extend([pt for pt in inters  if pt not in endpts])"
   ]
  },
  {
   "cell_type": "code",
   "execution_count": 152,
   "metadata": {},
   "outputs": [
    {
     "name": "stdout",
     "output_type": "stream",
     "text": [
      "None\n"
     ]
    }
   ],
   "source": [
    "print(result)"
   ]
  },
  {
   "cell_type": "code",
   "execution_count": 126,
   "metadata": {},
   "outputs": [
    {
     "name": "stdout",
     "output_type": "stream",
     "text": [
      "MULTILINESTRING ((0 0, 1 1), (-1 0, 1 0))\n",
      "LINESTRING (0 0, 1 1)\n",
      "LINESTRING (-1 0, 1 0)\n",
      "{'type': 'MultiLineString', 'coordinates': (((0.0, 0.0), (1.0, 1.0)), ((-1.0, 0.0), (1.0, 0.0)))}\n",
      "MULTILINESTRING ((0 0, 1 1), (-1 0, 1 0))\n"
     ]
    }
   ],
   "source": [
    "from shapely.geometry import  MultiLineString, mapping, shape\n",
    "coords = [((0, 0), (1, 1)), ((-1, 0), (1, 0))]\n",
    "lines = MultiLineString(coords)\n",
    "print(lines)\n",
    "# MULTILINESTRING ((0 0, 1 1), (-1 0, 1 0))\n",
    "for line in lines:\n",
    "     print(line)\n",
    "# LINESTRING (0 0, 1 1)\n",
    "# LINESTRING (-1 0, 1 0)\n",
    "\n",
    "# convert to GeoJSON format:\n",
    "print(mapping(lines))\n",
    "# {'type': 'MultiLineString', 'coordinates': (((0.0, 0.0), (1.0, 1.0)), ((-1.0, 0.0), (1.0, 0.0)))}\n",
    "# convert from GeoJSON to shapely\n",
    "print(shape(mapping(lines)))\n",
    "# MULTILINESTRING ((0 0, 1 1), (-1 0, 1 0))"
   ]
  },
  {
   "cell_type": "markdown",
   "metadata": {},
   "source": [
    "============================================="
   ]
  },
  {
   "cell_type": "markdown",
   "metadata": {},
   "source": [
    "簡化檔案\n",
    "* 用單純線嘗試"
   ]
  },
  {
   "cell_type": "code",
   "execution_count": 247,
   "metadata": {},
   "outputs": [],
   "source": [
    "import geopandas as gpd\n",
    "singleRoad=gpd.read_file('./singleRoadExample.geojson',encoding='utf-8')"
   ]
  },
  {
   "cell_type": "code",
   "execution_count": 248,
   "metadata": {},
   "outputs": [
    {
     "data": {
      "text/plain": [
       "<matplotlib.axes._subplots.AxesSubplot at 0x12a1d65d0>"
      ]
     },
     "execution_count": 248,
     "metadata": {},
     "output_type": "execute_result"
    },
    {
     "data": {
      "image/png": "[encoded data removed]",
      "text/plain": [
       "<Figure size 432x288 with 1 Axes>"
      ]
     },
     "metadata": {
      "needs_background": "light"
     },
     "output_type": "display_data"
    }
   ],
   "source": [
    "# 檢查形狀\n",
    "singleRoad.plot()"
   ]
  },
  {
   "cell_type": "code",
   "execution_count": 264,
   "metadata": {},
   "outputs": [
    {
     "name": "stdout",
     "output_type": "stream",
     "text": [
      "   NAME ALIAS  CLASS INDEX  TYPE RNAME SNAME LNAME ANAME FACILITY  STOP  \\\n",
      "0  保安八街  保安八街      6  None     1  保安八街  None  None  None     None  None   \n",
      "1  保安十街  保安十街      6  None     1  保安十街  None  None  None     None  None   \n",
      "2  保安九街  保安九街      6  None     1  保安九街  None  None  None     None  None   \n",
      "\n",
      "   LENGTH                                           geometry  \n",
      "0     156  MULTILINESTRING ((120.60893 24.14627, 120.6088...  \n",
      "1     189  MULTILINESTRING ((120.60923 24.14995, 120.6092...  \n",
      "2     211  MULTILINESTRING ((120.60855 24.14637, 120.6085...  \n",
      "<class 'shapely.geometry.linestring.LineString'>\n"
     ]
    }
   ],
   "source": [
    "import geopandas as gpd\n",
    "lines_geopandas=gpd.read_file('./singleRoadExample.geojson',encoding='utf-8')\n",
    "\n",
    "print(lines_geopandas.head(3))\n",
    "\n",
    "# 此時取出的 geometry 就是 shapely 格式\n",
    "for i in lines_geopandas['geometry'][0]:\n",
    "    # shapely.geometry.linestring.LineString'\n",
    "    print(type(i))"
   ]
  },
  {
   "cell_type": "code",
   "execution_count": 366,
   "metadata": {},
   "outputs": [
    {
     "data": {
      "text/plain": [
       "[['保安八街', <shapely.geometry.multilinestring.MultiLineString at 0x12f0ee790>],\n",
       " ['保安十街', <shapely.geometry.multilinestring.MultiLineString at 0x12f0d38d0>],\n",
       " ['保安九街', <shapely.geometry.multilinestring.MultiLineString at 0x12f0eee90>],\n",
       " ['文山五街', <shapely.geometry.multilinestring.MultiLineString at 0x12d482fd0>],\n",
       " ['文山三街', <shapely.geometry.multilinestring.MultiLineString at 0x12f0ee210>]]"
      ]
     },
     "execution_count": 366,
     "metadata": {},
     "output_type": "execute_result"
    }
   ],
   "source": [
    "from shapely.geometry import Point, shape\n",
    "import fiona\n",
    "lines = [[line['properties']['NAME'],shape(line['geometry'])] for line in fiona.open(\"./singleRoadExample.geojson\")]\n",
    "# 變成 shapely 格式\n",
    "lines"
   ]
  },
  {
   "cell_type": "markdown",
   "metadata": {},
   "source": [
    "geoDataFrames 就是以 Shapely 進行儲存\n",
    "故這邊繼續以 Shapely 進行處理"
   ]
  },
  {
   "cell_type": "markdown",
   "metadata": {},
   "source": [
    "轉成 single 並且取出節點"
   ]
  },
  {
   "cell_type": "code",
   "execution_count": 261,
   "metadata": {},
   "outputs": [
    {
     "data": {
      "text/plain": [
       "5"
      ]
     },
     "execution_count": 261,
     "metadata": {},
     "output_type": "execute_result"
    }
   ],
   "source": [
    "len(lines_geopandas['geometry'])"
   ]
  },
  {
   "cell_type": "code",
   "execution_count": 351,
   "metadata": {},
   "outputs": [
    {
     "ename": "AttributeError",
     "evalue": "'MultiLineString' object has no attribute 'NAME'",
     "output_type": "error",
     "traceback": [
      "\u001b[0;31m---------------------------------------------------------------------------\u001b[0m",
      "\u001b[0;31mAttributeError\u001b[0m                            Traceback (most recent call last)",
      "\u001b[0;32m<ipython-input-351-9cc2435b6c58>\u001b[0m in \u001b[0;36m<module>\u001b[0;34m\u001b[0m\n\u001b[1;32m      9\u001b[0m     )\n\u001b[1;32m     10\u001b[0m     \u001b[0;31m# 先取出 multiline\u001b[0m\u001b[0;34m\u001b[0m\u001b[0;34m\u001b[0m\u001b[0;34m\u001b[0m\u001b[0m\n\u001b[0;32m---> 11\u001b[0;31m     \u001b[0;32mfor\u001b[0m \u001b[0mmultiLines\u001b[0m \u001b[0;32min\u001b[0m \u001b[0mlines\u001b[0m\u001b[0;34m\u001b[0m\u001b[0;34m\u001b[0m\u001b[0m\n\u001b[0m\u001b[1;32m     12\u001b[0m     \u001b[0;31m# 再從 multiLine 取出各條路\u001b[0m\u001b[0;34m\u001b[0m\u001b[0;34m\u001b[0m\u001b[0;34m\u001b[0m\u001b[0m\n\u001b[1;32m     13\u001b[0m     \u001b[0;32mfor\u001b[0m \u001b[0mline\u001b[0m \u001b[0;32min\u001b[0m \u001b[0mmultiLines\u001b[0m\u001b[0;34m\u001b[0m\u001b[0;34m\u001b[0m\u001b[0m\n",
      "\u001b[0;32m<ipython-input-351-9cc2435b6c58>\u001b[0m in \u001b[0;36m<listcomp>\u001b[0;34m(.0)\u001b[0m\n\u001b[1;32m     11\u001b[0m     \u001b[0;32mfor\u001b[0m \u001b[0mmultiLines\u001b[0m \u001b[0;32min\u001b[0m \u001b[0mlines\u001b[0m\u001b[0;34m\u001b[0m\u001b[0;34m\u001b[0m\u001b[0m\n\u001b[1;32m     12\u001b[0m     \u001b[0;31m# 再從 multiLine 取出各條路\u001b[0m\u001b[0;34m\u001b[0m\u001b[0;34m\u001b[0m\u001b[0;34m\u001b[0m\u001b[0m\n\u001b[0;32m---> 13\u001b[0;31m     \u001b[0;32mfor\u001b[0m \u001b[0mline\u001b[0m \u001b[0;32min\u001b[0m \u001b[0mmultiLines\u001b[0m\u001b[0;34m\u001b[0m\u001b[0;34m\u001b[0m\u001b[0m\n\u001b[0m\u001b[1;32m     14\u001b[0m ]\n",
      "\u001b[0;31mAttributeError\u001b[0m: 'MultiLineString' object has no attribute 'NAME'"
     ]
    }
   ],
   "source": [
    "d = 'a'\n",
    "endpts = [\n",
    "    (   \n",
    "        multiLines.NAME,\n",
    "        # 再加入是哪一條線\n",
    "        # 每一個起始、終點湊成一條路就是一個單位\n",
    "        Point(list(line.coords)[0]),\n",
    "        Point(list(line.coords)[-1])\n",
    "    )\n",
    "    # 先取出 multiline     \n",
    "    for multiLines in lines\n",
    "    # 再從 multiLine 取出各條路\n",
    "    for line in multiLines\n",
    "]"
   ]
  },
  {
   "cell_type": "code",
   "execution_count": 352,
   "metadata": {},
   "outputs": [
    {
     "name": "stdout",
     "output_type": "stream",
     "text": [
      "MULTILINESTRING ((120.6089309391138 24.14627476778369, 120.6088894441397 24.14614007665966, 120.6085270575645 24.1450908120425, 120.6084816326584 24.14500158661412, 120.6084325808589 24.14494338003758, 120.6083476072613 24.14484254621429))\n",
      "MULTILINESTRING ((120.609225339832 24.14995443893547, 120.6092094972414 24.14984152087339, 120.6091421603854 24.1494429810566, 120.609085706979 24.14922268592482, 120.6090063565583 24.1490180574732, 120.6089041580466 24.1488133704312, 120.6087164503423 24.14855080506197, 120.6086139643273 24.14844046745538, 120.6085685709055 24.14839187474187, 120.6084716208175 24.14828809384088, 120.6082723458779 24.14807267343719, 120.6081301470253 24.14787312468994, 120.6080448471077 24.14774710546271, 120.6079880765206 24.14763164243848, 120.6079143528693 24.14745585738896, 120.6078407653695 24.14723551775432, 120.6077616100884 24.14696798858157, 120.6076995600824 24.14671098720466, 120.6076729863938 24.14658726584867))\n",
      "MULTILINESTRING ((120.6085504911976 24.14636912624256, 120.6085743483208 24.14644328608279, 120.6091119363978 24.1481115182097, 120.6091490189795 24.14819153208347))\n",
      "MULTILINESTRING ((120.6080512178732 24.14869036004893, 120.6081507506692 24.14860963308076, 120.6084196912279 24.14845831479984, 120.6085685709055 24.14839187474187, 120.6086999754822 24.14833323345512, 120.6090087088411 24.14824491578147, 120.6091490189795 24.14819153208347))\n",
      "MULTILINESTRING ((120.6069056298167 24.14676621808642, 120.6070540174565 24.14673029350877, 120.6076084923653 24.14660329855963, 120.6076729863938 24.14658726584867, 120.6085504911976 24.14636912624256, 120.6089233022368 24.14627644752461, 120.6089309391138 24.14627476778369, 120.6099672139001 24.14604688500923))\n"
     ]
    }
   ],
   "source": [
    "for multiLines in lines:\n",
    "    print(multiLines)"
   ]
  },
  {
   "cell_type": "code",
   "execution_count": 350,
   "metadata": {},
   "outputs": [
    {
     "data": {
      "text/plain": [
       "[(<shapely.geometry.multilinestring.MultiLineString at 0x129a5af90>,\n",
       "  <shapely.geometry.point.Point at 0x12da5ead0>,\n",
       "  <shapely.geometry.point.Point at 0x12efa8e10>),\n",
       " (<shapely.geometry.multilinestring.MultiLineString at 0x129a5acd0>,\n",
       "  <shapely.geometry.point.Point at 0x12efa8210>,\n",
       "  <shapely.geometry.point.Point at 0x12efc0290>),\n",
       " (<shapely.geometry.multilinestring.MultiLineString at 0x129a5a310>,\n",
       "  <shapely.geometry.point.Point at 0x12dafd1d0>,\n",
       "  <shapely.geometry.point.Point at 0x12efc0f90>),\n",
       " (<shapely.geometry.multilinestring.MultiLineString at 0x12a012cd0>,\n",
       "  <shapely.geometry.point.Point at 0x12efc00d0>,\n",
       "  <shapely.geometry.point.Point at 0x12efc0210>),\n",
       " (<shapely.geometry.multilinestring.MultiLineString at 0x129a5ae90>,\n",
       "  <shapely.geometry.point.Point at 0x12efc0350>,\n",
       "  <shapely.geometry.point.Point at 0x12efc0310>)]"
      ]
     },
     "execution_count": 350,
     "metadata": {},
     "output_type": "execute_result"
    }
   ],
   "source": [
    "# 取得起始點、結束點\n",
    "endpts"
   ]
  },
  {
   "cell_type": "code",
   "execution_count": 238,
   "metadata": {},
   "outputs": [
    {
     "data": {
      "text/plain": [
       "[[120.60893093911378, 24.14627476778369],\n",
       " [120.60834760726128, 24.144842546214285],\n",
       " [120.60922533983198, 24.149954438935467],\n",
       " [120.60767298639375, 24.146587265848666],\n",
       " [120.60855049119758, 24.146369126242558],\n",
       " [120.60914901897948, 24.14819153208347],\n",
       " [120.60805121787317, 24.148690360048928],\n",
       " [120.60914901897948, 24.14819153208347],\n",
       " [120.60690562981665, 24.14676621808642],\n",
       " [120.60996721390009, 24.146046885009234]]"
      ]
     },
     "execution_count": 238,
     "metadata": {},
     "output_type": "execute_result"
    }
   ],
   "source": [
    "# 取出 shapely 點位坐標\n",
    "\n",
    "coordinates = []\n",
    "for i in endpts:\n",
    "    coordinates.append([i[0].x,i[0].y])\n",
    "    coordinates.append([i[1].x,i[1].y])\n",
    "coordinates"
   ]
  },
  {
   "cell_type": "markdown",
   "metadata": {},
   "source": [
    "查看形狀"
   ]
  },
  {
   "cell_type": "code",
   "execution_count": 312,
   "metadata": {},
   "outputs": [
    {
     "name": "stdout",
     "output_type": "stream",
     "text": [
      "(<shapely.geometry.point.Point object at 0x129a33d90>, <shapely.geometry.point.Point object at 0x129a33550>)\n",
      "(<shapely.geometry.point.Point object at 0x129a332d0>, <shapely.geometry.point.Point object at 0x129a33890>)\n",
      "(<shapely.geometry.point.Point object at 0x129a33910>, <shapely.geometry.point.Point object at 0x129a33190>)\n",
      "(<shapely.geometry.point.Point object at 0x129a338d0>, <shapely.geometry.point.Point object at 0x129a337d0>)\n",
      "(<shapely.geometry.point.Point object at 0x129a33450>, <shapely.geometry.point.Point object at 0x1299afa10>)\n"
     ]
    }
   ],
   "source": [
    "# 組成 geo dataframe\n",
    "for i in endpts:\n",
    "    "
   ]
  },
  {
   "cell_type": "markdown",
   "metadata": {},
   "source": [
    "panda DataFrame 新增欄位方式"
   ]
  },
  {
   "cell_type": "code",
   "execution_count": 310,
   "metadata": {},
   "outputs": [
    {
     "name": "stdout",
     "output_type": "stream",
     "text": [
      "           City    Country  Latitude  Longitude\n",
      "0  Buenos Aires  Argentina    -34.58     -58.66\n",
      "1      Brasilia     Brazil    -15.78     -47.91\n",
      "2      Santiago      Chile    -33.45     -70.66\n",
      "3        Bogota   Colombia      4.60     -74.08\n",
      "4       Caracas  Venezuela     10.48     -66.86\n",
      "=========================\n",
      "           City    Country  Latitude  Longitude\n",
      "0  Buenos Aires  Argentina   -34.580 -58.660000\n",
      "1      Brasilia     Brazil   -15.780 -47.910000\n",
      "2      Santiago      Chile   -33.450 -70.660000\n",
      "3        Bogota   Colombia     4.600 -74.080000\n",
      "4       Caracas  Venezuela    10.480 -66.860000\n",
      "0          Test       Test   132.311  23.243242\n"
     ]
    }
   ],
   "source": [
    "df = pd.DataFrame(\n",
    "    {'City': ['Buenos Aires', 'Brasilia', 'Santiago', 'Bogota', 'Caracas'],\n",
    "     'Country': ['Argentina', 'Brazil', 'Chile', 'Colombia', 'Venezuela'],\n",
    "     'Latitude': [-34.58, -15.78, -33.45, 4.60, 10.48],\n",
    "     'Longitude': [-58.66, -47.91, -70.66, -74.08, -66.86]})\n",
    "\n",
    "print(df)\n",
    "print(\"=========================\")\n",
    "\n",
    "# 新增欄位\n",
    "test = pd.DataFrame({\n",
    "    \"City\": [\"Test\"],\n",
    "    \"Country\": [\"Test\"],\n",
    "    \"Latitude\":  [132.311],\n",
    "    \"Longitude\": [23.243242],\n",
    "})\n",
    "\n",
    "df = df.append(test)\n",
    "print(df)"
   ]
  },
  {
   "cell_type": "markdown",
   "metadata": {},
   "source": [
    "----------------------------------\n",
    "\n",
    "### 實戰\n",
    "\n",
    "道路節點資料表結構定義\n",
    "\n",
    "```python\n",
    "gpd_test = gpd.GeoDataFrame({\n",
    "    \"Road_Index\": index\n",
    "    \"geometry\": endpts[0]\n",
    "})\n",
    "```"
   ]
  },
  {
   "cell_type": "code",
   "execution_count": 338,
   "metadata": {},
   "outputs": [
    {
     "data": {
      "text/html": [
       "<div>\n",
       "<style scoped>\n",
       "    .dataframe tbody tr th:only-of-type {\n",
       "        vertical-align: middle;\n",
       "    }\n",
       "\n",
       "    .dataframe tbody tr th {\n",
       "        vertical-align: top;\n",
       "    }\n",
       "\n",
       "    .dataframe thead th {\n",
       "        text-align: right;\n",
       "    }\n",
       "</style>\n",
       "<table border=\"1\" class=\"dataframe\">\n",
       "  <thead>\n",
       "    <tr style=\"text-align: right;\">\n",
       "      <th></th>\n",
       "      <th>Road_Index</th>\n",
       "      <th>geometry</th>\n",
       "    </tr>\n",
       "  </thead>\n",
       "  <tbody>\n",
       "    <tr>\n",
       "      <td>0</td>\n",
       "      <td>0</td>\n",
       "      <td>POINT (120.60893 24.14627)</td>\n",
       "    </tr>\n",
       "    <tr>\n",
       "      <td>1</td>\n",
       "      <td>0</td>\n",
       "      <td>POINT (120.60835 24.14484)</td>\n",
       "    </tr>\n",
       "    <tr>\n",
       "      <td>0</td>\n",
       "      <td>1</td>\n",
       "      <td>POINT (120.60923 24.14995)</td>\n",
       "    </tr>\n",
       "    <tr>\n",
       "      <td>1</td>\n",
       "      <td>1</td>\n",
       "      <td>POINT (120.60767 24.14659)</td>\n",
       "    </tr>\n",
       "    <tr>\n",
       "      <td>0</td>\n",
       "      <td>2</td>\n",
       "      <td>POINT (120.60855 24.14637)</td>\n",
       "    </tr>\n",
       "    <tr>\n",
       "      <td>1</td>\n",
       "      <td>2</td>\n",
       "      <td>POINT (120.60915 24.14819)</td>\n",
       "    </tr>\n",
       "    <tr>\n",
       "      <td>0</td>\n",
       "      <td>3</td>\n",
       "      <td>POINT (120.60805 24.14869)</td>\n",
       "    </tr>\n",
       "    <tr>\n",
       "      <td>1</td>\n",
       "      <td>3</td>\n",
       "      <td>POINT (120.60915 24.14819)</td>\n",
       "    </tr>\n",
       "    <tr>\n",
       "      <td>0</td>\n",
       "      <td>4</td>\n",
       "      <td>POINT (120.60691 24.14677)</td>\n",
       "    </tr>\n",
       "    <tr>\n",
       "      <td>1</td>\n",
       "      <td>4</td>\n",
       "      <td>POINT (120.60997 24.14605)</td>\n",
       "    </tr>\n",
       "  </tbody>\n",
       "</table>\n",
       "</div>"
      ],
      "text/plain": [
       "   Road_Index                    geometry\n",
       "0           0  POINT (120.60893 24.14627)\n",
       "1           0  POINT (120.60835 24.14484)\n",
       "0           1  POINT (120.60923 24.14995)\n",
       "1           1  POINT (120.60767 24.14659)\n",
       "0           2  POINT (120.60855 24.14637)\n",
       "1           2  POINT (120.60915 24.14819)\n",
       "0           3  POINT (120.60805 24.14869)\n",
       "1           3  POINT (120.60915 24.14819)\n",
       "0           4  POINT (120.60691 24.14677)\n",
       "1           4  POINT (120.60997 24.14605)"
      ]
     },
     "execution_count": 338,
     "metadata": {},
     "output_type": "execute_result"
    }
   ],
   "source": [
    "# 組成 道路節點 GeoDataFrame\n",
    "index = 0\n",
    "gpd_road_nodes = gpd.GeoDataFrame()\n",
    "\n",
    "for pt in endpts:\n",
    "    pt = gpd.GeoDataFrame({\n",
    "        \"Road_Name\":\n",
    "        \"Road_Index\": index,\n",
    "        \"geometry\": pt\n",
    "    })\n",
    "    \n",
    "    gpd_road_nodes = gpd_road_nodes.append(pt)\n",
    "    index += 1\n",
    "gpd_road_nodes"
   ]
  },
  {
   "cell_type": "code",
   "execution_count": 339,
   "metadata": {},
   "outputs": [
    {
     "data": {
      "text/plain": [
       "<matplotlib.axes._subplots.AxesSubplot at 0x12d85b790>"
      ]
     },
     "execution_count": 339,
     "metadata": {},
     "output_type": "execute_result"
    },
    {
     "data": {
      "image/png": "[encoded data removed]",
      "text/plain": [
       "<Figure size 432x288 with 1 Axes>"
      ]
     },
     "metadata": {
      "needs_background": "light"
     },
     "output_type": "display_data"
    }
   ],
   "source": [
    "# 檢查形狀\n",
    "road = singleRoad.plot(color='yellow')\n",
    "gpd_road_nodes.plot(ax=road)"
   ]
  },
  {
   "cell_type": "markdown",
   "metadata": {},
   "source": [
    "將原來的路抓出來"
   ]
  },
  {
   "cell_type": "code",
   "execution_count": 220,
   "metadata": {},
   "outputs": [],
   "source": [
    "points = [\n",
    "    (\n",
    "        Point(i),\n",
    "    )\n",
    "    for i in coordinates\n",
    "]"
   ]
  },
  {
   "cell_type": "code",
   "execution_count": 221,
   "metadata": {},
   "outputs": [
    {
     "data": {
      "text/plain": [
       "[(<shapely.geometry.point.Point at 0x1299995d0>,),\n",
       " (<shapely.geometry.point.Point at 0x129999810>,),\n",
       " (<shapely.geometry.point.Point at 0x129999650>,),\n",
       " (<shapely.geometry.point.Point at 0x12996be10>,),\n",
       " (<shapely.geometry.point.Point at 0x1299998d0>,),\n",
       " (<shapely.geometry.point.Point at 0x129999c10>,),\n",
       " (<shapely.geometry.point.Point at 0x129999b90>,),\n",
       " (<shapely.geometry.point.Point at 0x129999c50>,),\n",
       " (<shapely.geometry.point.Point at 0x12999f2d0>,),\n",
       " (<shapely.geometry.point.Point at 0x1299999d0>,)]"
      ]
     },
     "execution_count": 221,
     "metadata": {},
     "output_type": "execute_result"
    }
   ],
   "source": [
    "points"
   ]
  },
  {
   "cell_type": "code",
   "execution_count": 235,
   "metadata": {},
   "outputs": [
    {
     "name": "stdout",
     "output_type": "stream",
     "text": [
      "(<shapely.geometry.point.Point object at 0x1299995d0>,)\n",
      "(<shapely.geometry.point.Point object at 0x129999810>,)\n",
      "(<shapely.geometry.point.Point object at 0x129999650>,)\n",
      "(<shapely.geometry.point.Point object at 0x12996be10>,)\n",
      "(<shapely.geometry.point.Point object at 0x1299998d0>,)\n",
      "(<shapely.geometry.point.Point object at 0x129999c10>,)\n",
      "(<shapely.geometry.point.Point object at 0x129999b90>,)\n",
      "(<shapely.geometry.point.Point object at 0x129999c50>,)\n",
      "(<shapely.geometry.point.Point object at 0x12999f2d0>,)\n",
      "(<shapely.geometry.point.Point object at 0x1299999d0>,)\n"
     ]
    }
   ],
   "source": [
    "# Insert the polygon into 'geometry' -column at index 0\n",
    "# import pandas as pd\n",
    "# import geopandas as gpd\n",
    "# from shapely.geometry import Point, Polygon\n",
    "# newdata['geometry'] = None\n",
    "for i in range(len(points)):\n",
    "    newdata.loc[i, 'geometry'] = points[i]\n"
   ]
  },
  {
   "cell_type": "code",
   "execution_count": 215,
   "metadata": {},
   "outputs": [
    {
     "ename": "NameError",
     "evalue": "name 'GeoDataFrame' is not defined",
     "output_type": "error",
     "traceback": [
      "\u001b[0;31m---------------------------------------------------------------------------\u001b[0m",
      "\u001b[0;31mNameError\u001b[0m                                 Traceback (most recent call last)",
      "\u001b[0;32m<ipython-input-215-78d1e84ba61f>\u001b[0m in \u001b[0;36m<module>\u001b[0;34m\u001b[0m\n\u001b[1;32m      9\u001b[0m \u001b[0;32mimport\u001b[0m \u001b[0mgeopandas\u001b[0m \u001b[0;32mas\u001b[0m \u001b[0mgpd\u001b[0m\u001b[0;34m\u001b[0m\u001b[0;34m\u001b[0m\u001b[0m\n\u001b[1;32m     10\u001b[0m \u001b[0mcrs\u001b[0m \u001b[0;34m=\u001b[0m \u001b[0;34m{\u001b[0m\u001b[0;34m'init'\u001b[0m\u001b[0;34m:\u001b[0m \u001b[0;34m'epsg:27700'\u001b[0m\u001b[0;34m}\u001b[0m\u001b[0;34m\u001b[0m\u001b[0;34m\u001b[0m\u001b[0m\n\u001b[0;32m---> 11\u001b[0;31m \u001b[0mgdf\u001b[0m \u001b[0;34m=\u001b[0m \u001b[0mGeoDataFrame\u001b[0m\u001b[0;34m(\u001b[0m\u001b[0mdfthresh\u001b[0m\u001b[0;34m,\u001b[0m \u001b[0mcrs\u001b[0m\u001b[0;34m=\u001b[0m\u001b[0mcrs\u001b[0m\u001b[0;34m,\u001b[0m \u001b[0mgeometry\u001b[0m \u001b[0;34m=\u001b[0m \u001b[0mgeometry\u001b[0m\u001b[0;34m)\u001b[0m\u001b[0;34m\u001b[0m\u001b[0;34m\u001b[0m\u001b[0m\n\u001b[0m",
      "\u001b[0;31mNameError\u001b[0m: name 'GeoDataFrame' is not defined"
     ]
    }
   ],
   "source": []
  },
  {
   "cell_type": "code",
   "execution_count": 176,
   "metadata": {},
   "outputs": [],
   "source": [
    "import itertools\n",
    "inters = []\n",
    "for line1,line2 in  itertools.combinations(lines, 2):\n",
    "      if  line1.intersects(line2):\n",
    "        inter = line1.intersection(line2)\n",
    "        if \"Point\" == inter.type:\n",
    "            inters.append(inter)\n",
    "        elif \"MultiPoint\" == inter.type:\n",
    "            inters.extend([pt for pt in inter])\n",
    "        elif \"MultiLineString\" == inter.type:\n",
    "            multiLine = [line for line in inter]\n",
    "            first_coords = multiLine[0].coords[0]\n",
    "            last_coords = multiLine[len(multiLine)-1].coords[1]\n",
    "            inters.append(Point(first_coords[0], first_coords[1]))\n",
    "            inters.append(Point(last_coords[0], last_coords[1]))\n",
    "        elif \"GeometryCollection\" == inter.type:\n",
    "            for geom in inter:\n",
    "                if \"Point\" == geom.type:\n",
    "                    inters.append(geom)\n",
    "                elif \"MultiPoint\" == geom.type:\n",
    "                    inters.extend([pt for pt in geom])\n",
    "                elif \"MultiLineString\" == geom.type:\n",
    "                    multiLine = [line for line in geom]\n",
    "                    first_coords = multiLine[0].coords[0]\n",
    "                    last_coords = multiLine[len(multiLine)-1].coords[1]\n",
    "                    inters.append(Point(first_coords[0], first_coords[1]))\n",
    "                    inters.append(Point(last_coords[0], last_coords[1]))"
   ]
  },
  {
   "cell_type": "code",
   "execution_count": 177,
   "metadata": {},
   "outputs": [
    {
     "data": {
      "text/plain": [
       "[<shapely.geometry.point.Point at 0x129803310>,\n",
       " <shapely.geometry.point.Point at 0x1298b2fd0>,\n",
       " <shapely.geometry.point.Point at 0x1298031d0>,\n",
       " <shapely.geometry.point.Point at 0x1297da410>,\n",
       " <shapely.geometry.point.Point at 0x129803350>]"
      ]
     },
     "execution_count": 177,
     "metadata": {},
     "output_type": "execute_result"
    }
   ],
   "source": [
    "inters"
   ]
  },
  {
   "cell_type": "code",
   "execution_count": 178,
   "metadata": {},
   "outputs": [],
   "source": [
    "result = endpts.extend([pt for pt in inters  if pt not in endpts])"
   ]
  },
  {
   "cell_type": "code",
   "execution_count": 190,
   "metadata": {},
   "outputs": [
    {
     "data": {
      "image/svg+xml": [
       "<svg xmlns=\"http://www.w3.org/2000/svg\" xmlns:xlink=\"http://www.w3.org/1999/xlink\" width=\"100.0\" height=\"100.0\" viewBox=\"-1.0 -1.0 2.0 2.0\" preserveAspectRatio=\"xMinYMin meet\"><g transform=\"matrix(1,0,0,-1,0,0.0)\"><circle cx=\"0.0\" cy=\"0.0\" r=\"0.06\" stroke=\"#555555\" stroke-width=\"0.02\" fill=\"#66cc99\" opacity=\"0.6\" /></g></svg>"
      ],
      "text/plain": [
       "<shapely.geometry.point.Point at 0x129811510>"
      ]
     },
     "execution_count": 190,
     "metadata": {},
     "output_type": "execute_result"
    }
   ],
   "source": [
    "import json\n",
    ">>> from shapely.geometry import mapping, shape\n",
    ">>> s = shape(json.loads('{\"type\": \"Point\", \"coordinates\": [0.0, 0.0]}'))\n",
    ">>> s"
   ]
  },
  {
   "cell_type": "code",
   "execution_count": 189,
   "metadata": {},
   "outputs": [
    {
     "ename": "AttributeError",
     "evalue": "'tuple' object has no attribute '__geo_interface__'",
     "output_type": "error",
     "traceback": [
      "\u001b[0;31m---------------------------------------------------------------------------\u001b[0m",
      "\u001b[0;31mAttributeError\u001b[0m                            Traceback (most recent call last)",
      "\u001b[0;32m<ipython-input-189-f9d313282787>\u001b[0m in \u001b[0;36m<module>\u001b[0;34m\u001b[0m\n\u001b[1;32m      5\u001b[0m \u001b[0;32mwith\u001b[0m \u001b[0mfiona\u001b[0m\u001b[0;34m.\u001b[0m\u001b[0mopen\u001b[0m\u001b[0;34m(\u001b[0m\u001b[0;34m'result.shp'\u001b[0m\u001b[0;34m,\u001b[0m\u001b[0;34m'w'\u001b[0m\u001b[0;34m,\u001b[0m\u001b[0;34m'ESRI Shapefile'\u001b[0m\u001b[0;34m,\u001b[0m \u001b[0mschema\u001b[0m\u001b[0;34m)\u001b[0m \u001b[0;32mas\u001b[0m \u001b[0moutput\u001b[0m\u001b[0;34m:\u001b[0m\u001b[0;34m\u001b[0m\u001b[0;34m\u001b[0m\u001b[0m\n\u001b[1;32m      6\u001b[0m     \u001b[0;32mfor\u001b[0m \u001b[0mi\u001b[0m\u001b[0;34m,\u001b[0m \u001b[0mpt\u001b[0m \u001b[0;32min\u001b[0m \u001b[0menumerate\u001b[0m\u001b[0;34m(\u001b[0m\u001b[0mendpts\u001b[0m\u001b[0;34m)\u001b[0m\u001b[0;34m:\u001b[0m\u001b[0;34m\u001b[0m\u001b[0;34m\u001b[0m\u001b[0m\n\u001b[0;32m----> 7\u001b[0;31m         \u001b[0moutput\u001b[0m\u001b[0;34m.\u001b[0m\u001b[0mwrite\u001b[0m\u001b[0;34m(\u001b[0m\u001b[0;34m{\u001b[0m\u001b[0;34m'geometry'\u001b[0m\u001b[0;34m:\u001b[0m\u001b[0mmapping\u001b[0m\u001b[0;34m(\u001b[0m\u001b[0mpt\u001b[0m\u001b[0;34m)\u001b[0m\u001b[0;34m,\u001b[0m \u001b[0;34m'properties'\u001b[0m\u001b[0;34m:\u001b[0m\u001b[0;34m{\u001b[0m\u001b[0;34m'test'\u001b[0m\u001b[0;34m:\u001b[0m\u001b[0mi\u001b[0m\u001b[0;34m}\u001b[0m\u001b[0;34m}\u001b[0m\u001b[0;34m)\u001b[0m\u001b[0;34m\u001b[0m\u001b[0;34m\u001b[0m\u001b[0m\n\u001b[0m",
      "\u001b[0;32m~/anaconda3/lib/python3.7/site-packages/shapely/geometry/geo.py\u001b[0m in \u001b[0;36mmapping\u001b[0;34m(ob)\u001b[0m\n\u001b[1;32m     80\u001b[0m \u001b[0;32mdef\u001b[0m \u001b[0mmapping\u001b[0m\u001b[0;34m(\u001b[0m\u001b[0mob\u001b[0m\u001b[0;34m)\u001b[0m\u001b[0;34m:\u001b[0m\u001b[0;34m\u001b[0m\u001b[0;34m\u001b[0m\u001b[0m\n\u001b[1;32m     81\u001b[0m     \u001b[0;34m\"\"\"Returns a GeoJSON-like mapping\"\"\"\u001b[0m\u001b[0;34m\u001b[0m\u001b[0;34m\u001b[0m\u001b[0m\n\u001b[0;32m---> 82\u001b[0;31m     \u001b[0;32mreturn\u001b[0m \u001b[0mob\u001b[0m\u001b[0;34m.\u001b[0m\u001b[0m__geo_interface__\u001b[0m\u001b[0;34m\u001b[0m\u001b[0;34m\u001b[0m\u001b[0m\n\u001b[0m",
      "\u001b[0;31mAttributeError\u001b[0m: 'tuple' object has no attribute '__geo_interface__'"
     ]
    }
   ],
   "source": [
    "from shapely.geometry import mapping\n",
    "# schema of the shapefile\n",
    "schema = {'geometry': 'Point','properties': {'test': 'int'}}\n",
    "# creation of the shapefile\n",
    "with fiona.open('result.shp','w','ESRI Shapefile', schema) as output:\n",
    "    for i, pt in enumerate(result):\n",
    "        output.write({'geometry':mapping(pt), 'properties':{'test':i}})"
   ]
  },
  {
   "cell_type": "code",
   "execution_count": 185,
   "metadata": {},
   "outputs": [
    {
     "name": "stdout",
     "output_type": "stream",
     "text": [
      "MULTILINESTRING ((120.6089309391138 24.14627476778369, 120.6088894441397 24.14614007665966, 120.6085270575645 24.1450908120425, 120.6084816326584 24.14500158661412, 120.6084325808589 24.14494338003758, 120.6083476072613 24.14484254621429), (120.6085504911976 24.14636912624256, 120.6089233022368 24.14627644752461, 120.6089309391138 24.14627476778369), (120.6089309391138 24.14627476778369, 120.6099672139001 24.14604688500923), (120.609225339832 24.14995443893547, 120.6092094972414 24.14984152087339, 120.6091421603854 24.1494429810566, 120.609085706979 24.14922268592482, 120.6090063565583 24.1490180574732, 120.6089041580466 24.1488133704312, 120.6087164503423 24.14855080506197, 120.6086139643273 24.14844046745538, 120.6085685709055 24.14839187474187), (120.6080512178732 24.14869036004893, 120.6081507506692 24.14860963308076, 120.6084196912279 24.14845831479984, 120.6085685709055 24.14839187474187), (120.6069056298167 24.14676621808642, 120.6070540174565 24.14673029350877, 120.6076084923653 24.14660329855963, 120.6076729863938 24.14658726584867), (120.6076729863938 24.14658726584867, 120.6085504911976 24.14636912624256), (120.6085504911976 24.14636912624256, 120.6085743483208 24.14644328608279, 120.6091119363978 24.1481115182097, 120.6091490189795 24.14819153208347), (120.6085685709055 24.14839187474187, 120.6084716208175 24.14828809384088, 120.6082723458779 24.14807267343719, 120.6081301470253 24.14787312468994, 120.6080448471077 24.14774710546271, 120.6079880765206 24.14763164243848, 120.6079143528693 24.14745585738896, 120.6078407653695 24.14723551775432, 120.6077616100884 24.14696798858157, 120.6076995600824 24.14671098720466, 120.6076729863938 24.14658726584867), (120.6085685709055 24.14839187474187, 120.6086999754822 24.14833323345512, 120.6090087088411 24.14824491578147, 120.6091490189795 24.14819153208347))\n"
     ]
    }
   ],
   "source": [
    "from shapely.ops import unary_union\n",
    "graph = unary_union(lines)\n",
    "print(graph)"
   ]
  },
  {
   "cell_type": "code",
   "execution_count": 186,
   "metadata": {},
   "outputs": [
    {
     "data": {
      "image/svg+xml": [
       "<svg xmlns=\"http://www.w3.org/2000/svg\" xmlns:xlink=\"http://www.w3.org/1999/xlink\" width=\"100.0\" height=\"100.0\" viewBox=\"120.60670115410781 24.144638070505437 0.00347053550112264 0.0055208441388785445\" preserveAspectRatio=\"xMinYMin meet\"><g transform=\"matrix(1,0,0,-1,0,48.29479698514975)\"><g><polyline fill=\"none\" stroke=\"#66cc99\" stroke-width=\"0.00011041688277757089\" points=\"120.60893093911378,24.14627476778369 120.60888944413972,24.146140076659663 120.60852705756453,24.145090812042504 120.60848163265841,24.14500158661412 120.60843258085892,24.144943380037578 120.60834760726128,24.144842546214285\" opacity=\"0.8\" /><polyline fill=\"none\" stroke=\"#66cc99\" stroke-width=\"0.00011041688277757089\" points=\"120.60855049119758,24.146369126242558 120.60892330223683,24.146276447524606 120.60893093911378,24.14627476778369\" opacity=\"0.8\" /><polyline fill=\"none\" stroke=\"#66cc99\" stroke-width=\"0.00011041688277757089\" points=\"120.60893093911378,24.14627476778369 120.60996721390009,24.146046885009234\" opacity=\"0.8\" /><polyline fill=\"none\" stroke=\"#66cc99\" stroke-width=\"0.00011041688277757089\" points=\"120.60922533983198,24.149954438935467 120.60920949724138,24.149841520873395 120.60914216038542,24.1494429810566 120.60908570697896,24.149222685924816 120.60900635655828,24.149018057473196 120.60890415804657,24.148813370431203 120.60871645034233,24.148550805061966 120.6086139643273,24.148440467455384 120.6085685709055,24.148391874741872\" opacity=\"0.8\" /><polyline fill=\"none\" stroke=\"#66cc99\" stroke-width=\"0.00011041688277757089\" points=\"120.60805121787317,24.148690360048928 120.60815075066924,24.14860963308076 120.60841969122785,24.14845831479984 120.6085685709055,24.148391874741872\" opacity=\"0.8\" /><polyline fill=\"none\" stroke=\"#66cc99\" stroke-width=\"0.00011041688277757089\" points=\"120.60690562981665,24.14676621808642 120.60705401745646,24.146730293508767 120.60760849236527,24.146603298559626 120.60767298639375,24.146587265848666\" opacity=\"0.8\" /><polyline fill=\"none\" stroke=\"#66cc99\" stroke-width=\"0.00011041688277757089\" points=\"120.60767298639375,24.146587265848666 120.60855049119758,24.146369126242558\" opacity=\"0.8\" /><polyline fill=\"none\" stroke=\"#66cc99\" stroke-width=\"0.00011041688277757089\" points=\"120.60855049119758,24.146369126242558 120.60857434832084,24.146443286082786 120.6091119363978,24.148111518209696 120.60914901897948,24.14819153208347\" opacity=\"0.8\" /><polyline fill=\"none\" stroke=\"#66cc99\" stroke-width=\"0.00011041688277757089\" points=\"120.6085685709055,24.148391874741872 120.6084716208175,24.148288093840883 120.60827234587795,24.14807267343719 120.60813014702528,24.147873124689937 120.60804484710773,24.147747105462706 120.6079880765206,24.147631642438476 120.60791435286926,24.147455857388962 120.6078407653695,24.147235517754325 120.60776161008836,24.146967988581572 120.60769956008244,24.146710987204656 120.60767298639375,24.146587265848666\" opacity=\"0.8\" /><polyline fill=\"none\" stroke=\"#66cc99\" stroke-width=\"0.00011041688277757089\" points=\"120.6085685709055,24.148391874741872 120.60869997548222,24.14833323345512 120.60900870884109,24.148244915781472 120.60914901897948,24.14819153208347\" opacity=\"0.8\" /></g></g></svg>"
      ],
      "text/plain": [
       "<shapely.geometry.multilinestring.MultiLineString at 0x1296c5750>"
      ]
     },
     "execution_count": 186,
     "metadata": {},
     "output_type": "execute_result"
    }
   ],
   "source": [
    "graph"
   ]
  },
  {
   "cell_type": "code",
   "execution_count": null,
   "metadata": {},
   "outputs": [],
   "source": []
  }
 ],
 "metadata": {
  "kernelspec": {
   "display_name": "Python 3",
   "language": "python",
   "name": "python3"
  },
  "language_info": {
   "codemirror_mode": {
    "name": "ipython",
    "version": 3
   },
   "file_extension": ".py",
   "mimetype": "text/x-python",
   "name": "python",
   "nbconvert_exporter": "python",
   "pygments_lexer": "ipython3",
   "version": "3.7.4"
  }
 },
 "nbformat": 4,
 "nbformat_minor": 4
}
