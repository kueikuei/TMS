{
 "cells": [
  {
   "cell_type": "markdown",
   "metadata": {},
   "source": [
    "# TMS 道路清單轉換 (可行性研究) 分析報告結果"
   ]
  },
  {
   "cell_type": "markdown",
   "metadata": {},
   "source": [
    "道路清單產出測試流程\n",
    "* 透過 TMS動態熱區切出某一區 路網圖\n",
    "* 從路網圖 切出節點\n",
    "    * 每一條路網圖象徵一條道路(可能會有例外，例如起點與終點相同路網，這邊先單純測試)\n",
    "    * 再由節點經過 TGOS API 轉換成地址\n",
    "        * https://gist.motc.gov.tw/gist_api/swagger/ui/index\n",
    "    * 由 起點(start pt)、終點(end pt)串成一條條道路地址清單\n",
    "\n",
    "實作\n",
    "* 透過\n",
    "\n",
    "測試\n",
    "* 道路清單是否符合實際需求\n",
    "    * 結果\n",
    "        * \n",
    "    \n",
    "\n",
    "參考資料\n",
    "\n",
    "* [save-start-end-points-in-another-shapefile-using-shapely](https://gis.stackexchange.com/questions/203134/save-start-end-points-in-another-shapefile-using-shapely)\n",
    "   "
   ]
  },
  {
   "cell_type": "markdown",
   "metadata": {},
   "source": [
    "---"
   ]
  },
  {
   "cell_type": "markdown",
   "metadata": {},
   "source": [
    "#### 引入相關套件"
   ]
  },
  {
   "cell_type": "code",
   "execution_count": null,
   "metadata": {},
   "outputs": [],
   "source": [
    "# 相關需要套件\n",
    "import geopandas as gpd\n",
    "import httplib2\n",
    "import requests\n",
    "import json\n",
    "import csv\n",
    "from shapely.geometry import Point, shape\n",
    "import fiona\n",
    "\n",
    "# 繪圖套件\n",
    "%matplotlib inline"
   ]
  },
  {
   "cell_type": "markdown",
   "metadata": {},
   "source": [
    "---"
   ]
  },
  {
   "cell_type": "markdown",
   "metadata": {},
   "source": [
    "#### geopaandas 引入某一區 TMS動態熱區切出某一區 路網圖"
   ]
  },
  {
   "cell_type": "code",
   "execution_count": 477,
   "metadata": {},
   "outputs": [],
   "source": [
    "import geopandas as gpd\n",
    "\n",
    "# 匯入 TMS動態熱區切出某一區 路網圖\n",
    "roadList=gpd.read_file('./roadInRangeSample.geojson',encoding='utf-8')"
   ]
  },
  {
   "cell_type": "code",
   "execution_count": 478,
   "metadata": {},
   "outputs": [
    {
     "data": {
      "text/html": [
       "<div>\n",
       "<style scoped>\n",
       "    .dataframe tbody tr th:only-of-type {\n",
       "        vertical-align: middle;\n",
       "    }\n",
       "\n",
       "    .dataframe tbody tr th {\n",
       "        vertical-align: top;\n",
       "    }\n",
       "\n",
       "    .dataframe thead th {\n",
       "        text-align: right;\n",
       "    }\n",
       "</style>\n",
       "<table border=\"1\" class=\"dataframe\">\n",
       "  <thead>\n",
       "    <tr style=\"text-align: right;\">\n",
       "      <th></th>\n",
       "      <th>NAME</th>\n",
       "      <th>ALIAS</th>\n",
       "      <th>CLASS</th>\n",
       "      <th>INDEX</th>\n",
       "      <th>TYPE</th>\n",
       "      <th>RNAME</th>\n",
       "      <th>SNAME</th>\n",
       "      <th>LNAME</th>\n",
       "      <th>ANAME</th>\n",
       "      <th>FACILITY</th>\n",
       "      <th>STOP</th>\n",
       "      <th>LENGTH</th>\n",
       "      <th>geometry</th>\n",
       "    </tr>\n",
       "  </thead>\n",
       "  <tbody>\n",
       "    <tr>\n",
       "      <td>0</td>\n",
       "      <td>精科路</td>\n",
       "      <td>精科路</td>\n",
       "      <td>6</td>\n",
       "      <td>None</td>\n",
       "      <td>1</td>\n",
       "      <td>精科路</td>\n",
       "      <td>None</td>\n",
       "      <td>None</td>\n",
       "      <td>None</td>\n",
       "      <td>None</td>\n",
       "      <td>None</td>\n",
       "      <td>838</td>\n",
       "      <td>MULTILINESTRING ((120.59991 24.14267, 120.5999...</td>\n",
       "    </tr>\n",
       "    <tr>\n",
       "      <td>1</td>\n",
       "      <td>中台路308巷</td>\n",
       "      <td>中台路308巷</td>\n",
       "      <td>6</td>\n",
       "      <td>None</td>\n",
       "      <td>1</td>\n",
       "      <td>中台路</td>\n",
       "      <td>None</td>\n",
       "      <td>308巷</td>\n",
       "      <td>None</td>\n",
       "      <td>None</td>\n",
       "      <td>None</td>\n",
       "      <td>68</td>\n",
       "      <td>MULTILINESTRING ((120.59438 24.13933, 120.5943...</td>\n",
       "    </tr>\n",
       "    <tr>\n",
       "      <td>2</td>\n",
       "      <td>建功路256巷</td>\n",
       "      <td>建功路256巷</td>\n",
       "      <td>6</td>\n",
       "      <td>None</td>\n",
       "      <td>1</td>\n",
       "      <td>建功路</td>\n",
       "      <td>None</td>\n",
       "      <td>256巷</td>\n",
       "      <td>None</td>\n",
       "      <td>None</td>\n",
       "      <td>None</td>\n",
       "      <td>84</td>\n",
       "      <td>MULTILINESTRING ((120.60455 24.13624, 120.6045...</td>\n",
       "    </tr>\n",
       "    <tr>\n",
       "      <td>3</td>\n",
       "      <td>文山路</td>\n",
       "      <td>文山路</td>\n",
       "      <td>6</td>\n",
       "      <td>None</td>\n",
       "      <td>1</td>\n",
       "      <td>文山路</td>\n",
       "      <td>None</td>\n",
       "      <td>None</td>\n",
       "      <td>None</td>\n",
       "      <td>None</td>\n",
       "      <td>None</td>\n",
       "      <td>238</td>\n",
       "      <td>MULTILINESTRING ((120.60955 24.14451, 120.6093...</td>\n",
       "    </tr>\n",
       "    <tr>\n",
       "      <td>4</td>\n",
       "      <td>精科中一路</td>\n",
       "      <td>精科中一路</td>\n",
       "      <td>6</td>\n",
       "      <td>None</td>\n",
       "      <td>1</td>\n",
       "      <td>精科中一路</td>\n",
       "      <td>None</td>\n",
       "      <td>None</td>\n",
       "      <td>None</td>\n",
       "      <td>None</td>\n",
       "      <td>None</td>\n",
       "      <td>1</td>\n",
       "      <td>MULTILINESTRING ((120.58986 24.15050, 120.5899...</td>\n",
       "    </tr>\n",
       "  </tbody>\n",
       "</table>\n",
       "</div>"
      ],
      "text/plain": [
       "      NAME    ALIAS  CLASS INDEX  TYPE  RNAME SNAME LNAME ANAME FACILITY  \\\n",
       "0      精科路      精科路      6  None     1    精科路  None  None  None     None   \n",
       "1  中台路308巷  中台路308巷      6  None     1    中台路  None  308巷  None     None   \n",
       "2  建功路256巷  建功路256巷      6  None     1    建功路  None  256巷  None     None   \n",
       "3      文山路      文山路      6  None     1    文山路  None  None  None     None   \n",
       "4    精科中一路    精科中一路      6  None     1  精科中一路  None  None  None     None   \n",
       "\n",
       "   STOP  LENGTH                                           geometry  \n",
       "0  None     838  MULTILINESTRING ((120.59991 24.14267, 120.5999...  \n",
       "1  None      68  MULTILINESTRING ((120.59438 24.13933, 120.5943...  \n",
       "2  None      84  MULTILINESTRING ((120.60455 24.13624, 120.6045...  \n",
       "3  None     238  MULTILINESTRING ((120.60955 24.14451, 120.6093...  \n",
       "4  None       1  MULTILINESTRING ((120.58986 24.15050, 120.5899...  "
      ]
     },
     "execution_count": 478,
     "metadata": {},
     "output_type": "execute_result"
    }
   ],
   "source": [
    "# 取得前五筆查看資料狀況\n",
    "roadList.head()\n",
    "\n",
    "# 都是 MULTILINESTRING 資料，代表還要轉成 LineString\n"
   ]
  },
  {
   "cell_type": "code",
   "execution_count": 480,
   "metadata": {},
   "outputs": [
    {
     "data": {
      "text/plain": [
       "<generator object DataFrame.iterrows at 0x12f4b32d0>"
      ]
     },
     "execution_count": 480,
     "metadata": {},
     "output_type": "execute_result"
    }
   ],
   "source": [
    "# 要讀取裡頭每一欄透過此方法\n",
    "roadList.iterrows()\n",
    "\n",
    "# 搜尋\n",
    "# 透過 for in 讀取每一欄\n",
    "for i, row in roadList.iterrows():\n",
    "    print('------------------')\n",
    "    for polyline in row.geometry:\n",
    "            print(polyline)"
   ]
  },
  {
   "cell_type": "markdown",
   "metadata": {},
   "source": [
    "(0, NAME                                                      精科路\n",
    "ALIAS                                                     精科路\n",
    "CLASS                                                       6\n",
    "INDEX                                                    None\n",
    "TYPE                                                        1\n",
    "RNAME                                                     精科路\n",
    "SNAME                                                    None\n",
    "LNAME                                                    None\n",
    "ANAME                                                    None\n",
    "FACILITY                                                 None\n",
    "STOP                                                     None\n",
    "LENGTH                                                    838"
   ]
  },
  {
   "cell_type": "code",
   "execution_count": 484,
   "metadata": {},
   "outputs": [
    {
     "name": "stdout",
     "output_type": "stream",
     "text": [
      "5\n",
      "MultiLineString\n"
     ]
    }
   ],
   "source": [
    "# geopanda 資料其他取法\n",
    "print(len(roadList['geometry'][0]))\n",
    "print(row.geometry.type)"
   ]
  },
  {
   "cell_type": "markdown",
   "metadata": {},
   "source": [
    "#### 小結論\n",
    "* 以此 路段 為例子就包含了 682 條路\n",
    "* 一條 multi polyline 包含太多條 line\n",
    "    * 代表說有重複點位狀況(蝴蝶結路段，起點終點相同)\n",
    "    * 判斷道路清單上也會造成困難\n",
    "* QGIS測試先切出線交集節點進行測試\n",
    "    * 好處在於大量減少重複點位發生狀況\n",
    "    * 缺點\n",
    "        * 缺乏邊圍點位，還需要再度交集熱區 polygon 選出剩下點位\n",
    "        * 必須仰賴套裝軟體，後續還是必須回到程式面找出交集點\n",
    "    "
   ]
  },
  {
   "cell_type": "markdown",
   "metadata": {},
   "source": [
    "---"
   ]
  },
  {
   "cell_type": "markdown",
   "metadata": {},
   "source": [
    "#### 分析線交集節點"
   ]
  },
  {
   "cell_type": "markdown",
   "metadata": {},
   "source": [
    "\n",
    "    \n"
   ]
  },
  {
   "cell_type": "code",
   "execution_count": 468,
   "metadata": {},
   "outputs": [
    {
     "name": "stdout",
     "output_type": "stream",
     "text": [
      "0    120.599907\n",
      "1    120.601108\n",
      "dtype: float64\n",
      "0    24.142665\n",
      "1    24.143069\n",
      "dtype: float64\n"
     ]
    }
   ],
   "source": [
    "# 讀取交叉點位資料\n",
    "lineIsPt=gpd.read_file('./lineIntersecPt.geojson',encoding='utf-8')\n",
    "\n",
    "# 找出裏頭 xy\n",
    "print(lineIsPt.geometry.x.head(2))\n",
    "print(lineIsPt.geometry.y.head(2))"
   ]
  },
  {
   "cell_type": "code",
   "execution_count": 8,
   "metadata": {},
   "outputs": [
    {
     "data": {
      "text/html": [
       "<div>\n",
       "<style scoped>\n",
       "    .dataframe tbody tr th:only-of-type {\n",
       "        vertical-align: middle;\n",
       "    }\n",
       "\n",
       "    .dataframe tbody tr th {\n",
       "        vertical-align: top;\n",
       "    }\n",
       "\n",
       "    .dataframe thead th {\n",
       "        text-align: right;\n",
       "    }\n",
       "</style>\n",
       "<table border=\"1\" class=\"dataframe\">\n",
       "  <thead>\n",
       "    <tr style=\"text-align: right;\">\n",
       "      <th></th>\n",
       "      <th>NAME_1</th>\n",
       "      <th>NAME_2</th>\n",
       "      <th>geometry</th>\n",
       "    </tr>\n",
       "  </thead>\n",
       "  <tbody>\n",
       "    <tr>\n",
       "      <td>0</td>\n",
       "      <td>精科路</td>\n",
       "      <td>培德路</td>\n",
       "      <td>POINT (120.59991 24.14267)</td>\n",
       "    </tr>\n",
       "    <tr>\n",
       "      <td>1</td>\n",
       "      <td>精科路</td>\n",
       "      <td>精科中路</td>\n",
       "      <td>POINT (120.60111 24.14307)</td>\n",
       "    </tr>\n",
       "    <tr>\n",
       "      <td>2</td>\n",
       "      <td>精科路</td>\n",
       "      <td>精科北路</td>\n",
       "      <td>POINT (120.60679 24.14802)</td>\n",
       "    </tr>\n",
       "    <tr>\n",
       "      <td>3</td>\n",
       "      <td>精科路</td>\n",
       "      <td>None</td>\n",
       "      <td>POINT (120.60018 24.14274)</td>\n",
       "    </tr>\n",
       "    <tr>\n",
       "      <td>4</td>\n",
       "      <td>精科路</td>\n",
       "      <td>精科東路</td>\n",
       "      <td>POINT (120.60111 24.14307)</td>\n",
       "    </tr>\n",
       "  </tbody>\n",
       "</table>\n",
       "</div>"
      ],
      "text/plain": [
       "  NAME_1 NAME_2                    geometry\n",
       "0    精科路    培德路  POINT (120.59991 24.14267)\n",
       "1    精科路   精科中路  POINT (120.60111 24.14307)\n",
       "2    精科路   精科北路  POINT (120.60679 24.14802)\n",
       "3    精科路   None  POINT (120.60018 24.14274)\n",
       "4    精科路   精科東路  POINT (120.60111 24.14307)"
      ]
     },
     "execution_count": 8,
     "metadata": {},
     "output_type": "execute_result"
    }
   ],
   "source": [
    "# 觀察資料\n",
    "lineIsPt.head()"
   ]
  },
  {
   "cell_type": "markdown",
   "metadata": {},
   "source": [
    "#### Req 測試範例\n",
    "* httplib2 傳送 GET 請求\n"
   ]
  },
  {
   "cell_type": "code",
   "execution_count": 11,
   "metadata": {},
   "outputs": [
    {
     "data": {
      "text/plain": [
       "b'{\"type\":\"FeatureCollection\",\"features\":[{\"type\":\"Feature\",\"geometry\":{\"type\":\"Point\",\"coordinates\":[121.6045812569886,23.509762481675281]},\"properties\":{\"model\":{\"Addr\":\"\\xe6\\xbe\\x8e\\xe6\\xb9\\x96\\xe7\\xb8\\xa3\\xe9\\xa6\\xac\\xe5\\x85\\xac\\xe5\\xb8\\x82\\xe5\\xb1\\xb1\\xe6\\xb0\\xb4\\xe9\\x87\\x8c\\xe7\\x8f\\xa0\\xe6\\xb1\\x9f600\\xe8\\x99\\x9f\"}}}]}'"
      ]
     },
     "execution_count": 11,
     "metadata": {},
     "output_type": "execute_result"
    }
   ],
   "source": [
    "# 取得 http\n",
    "h = httplib2.Http()\n",
    "# 打入 API 網址範例\n",
    "url = 'https://gist.motc.gov.tw/gist_api/V2/Map/GeoCode/Address/23.5,122,5?$format=GEOJSON'\n",
    "# 測試 req\n",
    "resp, content = h.request(url)\n",
    "# 印出結果\n",
    "content"
   ]
  },
  {
   "cell_type": "markdown",
   "metadata": {},
   "source": [
    "##### 發現問題\n",
    "* 回傳格式為 byte\n",
    "\n",
    "* 回傳速度慢\n",
    "    * 猜測API應該有阻檔或限制\n",
    "    * 換另外一套套件進行測試"
   ]
  },
  {
   "cell_type": "markdown",
   "metadata": {},
   "source": [
    "先檢驗速度"
   ]
  },
  {
   "cell_type": "code",
   "execution_count": null,
   "metadata": {},
   "outputs": [],
   "source": [
    "# 換另外一操測試\n",
    "# 引入 requests 模組\n",
    "import requests\n",
    "url = 'https://gist.motc.gov.tw/gist_api/V2/Map/GeoCode/Address/23.5,122,5?$format=GEOJSON'\n",
    "# 使用 GET 方式下載普通網頁\n",
    "r = requests.get(url)\n",
    "print (r)"
   ]
  },
  {
   "cell_type": "markdown",
   "metadata": {},
   "source": [
    "速度上一樣慢\n",
    "* 有時甚至一筆十幾秒\n",
    "* 猜測API應該有阻檔或限制\n",
    "\n",
    "然而\n",
    "* 但是某些情況下確實快的\n",
    "\n",
    "最後結果\n",
    "* 速度快慢依照資料精確度\n",
    "* 符合 TGIS 搜尋規則，越精細資料越容易定位到\n"
   ]
  },
  {
   "cell_type": "markdown",
   "metadata": {},
   "source": [
    "轉 byte 成 str"
   ]
  },
  {
   "cell_type": "code",
   "execution_count": null,
   "metadata": {},
   "outputs": [],
   "source": [
    "# byte 轉 str 方法\n",
    "str(content, encoding = \"utf-8\")"
   ]
  },
  {
   "cell_type": "code",
   "execution_count": 471,
   "metadata": {},
   "outputs": [
    {
     "data": {
      "text/plain": [
       "444"
      ]
     },
     "execution_count": 471,
     "metadata": {},
     "output_type": "execute_result"
    }
   ],
   "source": [
    "# 查看多少交叉點\n",
    "len(lineIsPt.geometry)"
   ]
  },
  {
   "cell_type": "code",
   "execution_count": null,
   "metadata": {},
   "outputs": [],
   "source": [
    "# 取出需要資料方便分析\n",
    "container = []\n",
    "for i in range(10):\n",
    "    x = lineIsPt.geometry.x[i]\n",
    "    y = lineIsPt.geometry.y[i]\n",
    "    container.append([y,x])\n",
    "    \n",
    "print(container)\n"
   ]
  },
  {
   "cell_type": "code",
   "execution_count": null,
   "metadata": {},
   "outputs": [],
   "source": [
    "# 一次轉換十筆進行測試\n",
    "\n",
    "for i in range(10):\n",
    "    x = str(lineIsPt.geometry.x[i])\n",
    "    y = str(lineIsPt.geometry.y[i])\n",
    "    \n",
    "    xy = y+','+x\n",
    "    res = f'https://gist.motc.gov.tw/gist_api/V2/Map/GeoCode/Address/{xy}?$format=GEOJSON'\n",
    "    container.append(res)\n",
    "\n",
    "# 觀察    \n",
    "container"
   ]
  },
  {
   "cell_type": "code",
   "execution_count": 72,
   "metadata": {},
   "outputs": [
    {
     "data": {
      "text/html": [
       "<div>\n",
       "<style scoped>\n",
       "    .dataframe tbody tr th:only-of-type {\n",
       "        vertical-align: middle;\n",
       "    }\n",
       "\n",
       "    .dataframe tbody tr th {\n",
       "        vertical-align: top;\n",
       "    }\n",
       "\n",
       "    .dataframe thead th {\n",
       "        text-align: right;\n",
       "    }\n",
       "</style>\n",
       "<table border=\"1\" class=\"dataframe\">\n",
       "  <thead>\n",
       "    <tr style=\"text-align: right;\">\n",
       "      <th></th>\n",
       "      <th>NAME_1</th>\n",
       "      <th>NAME_2</th>\n",
       "      <th>geometry</th>\n",
       "    </tr>\n",
       "  </thead>\n",
       "  <tbody>\n",
       "    <tr>\n",
       "      <td>0</td>\n",
       "      <td>精科路</td>\n",
       "      <td>培德路</td>\n",
       "      <td>POINT (120.59991 24.14267)</td>\n",
       "    </tr>\n",
       "    <tr>\n",
       "      <td>1</td>\n",
       "      <td>精科路</td>\n",
       "      <td>精科中路</td>\n",
       "      <td>POINT (120.60111 24.14307)</td>\n",
       "    </tr>\n",
       "    <tr>\n",
       "      <td>2</td>\n",
       "      <td>精科路</td>\n",
       "      <td>精科北路</td>\n",
       "      <td>POINT (120.60679 24.14802)</td>\n",
       "    </tr>\n",
       "    <tr>\n",
       "      <td>3</td>\n",
       "      <td>精科路</td>\n",
       "      <td>None</td>\n",
       "      <td>POINT (120.60018 24.14274)</td>\n",
       "    </tr>\n",
       "    <tr>\n",
       "      <td>4</td>\n",
       "      <td>精科路</td>\n",
       "      <td>精科東路</td>\n",
       "      <td>POINT (120.60111 24.14307)</td>\n",
       "    </tr>\n",
       "  </tbody>\n",
       "</table>\n",
       "</div>"
      ],
      "text/plain": [
       "  NAME_1 NAME_2                    geometry\n",
       "0    精科路    培德路  POINT (120.59991 24.14267)\n",
       "1    精科路   精科中路  POINT (120.60111 24.14307)\n",
       "2    精科路   精科北路  POINT (120.60679 24.14802)\n",
       "3    精科路   None  POINT (120.60018 24.14274)\n",
       "4    精科路   精科東路  POINT (120.60111 24.14307)"
      ]
     },
     "execution_count": 72,
     "metadata": {},
     "output_type": "execute_result"
    }
   ],
   "source": [
    "# 檢查資料\n",
    "lineIsPt.head()"
   ]
  },
  {
   "cell_type": "markdown",
   "metadata": {},
   "source": [
    "#### 轉換大量資料時遇到超時問題\n",
    "\n",
    "引入 socket 解決\n",
    "\n",
    "```python\n",
    "socket.setdefaulttimeout(100000000)\n",
    "```"
   ]
  },
  {
   "cell_type": "markdown",
   "metadata": {},
   "source": [
    "#### 打API轉換大量資料"
   ]
  },
  {
   "cell_type": "code",
   "execution_count": 476,
   "metadata": {},
   "outputs": [],
   "source": [
    "socket.setdefaulttimeout(100000000)\n",
    "\n",
    "h = httplib2.Http(timeout=None)\n",
    "\n",
    "container = []\n",
    "\n",
    "# for i in range(10):\n",
    "for i in range(lineIsPt.index.stop):\n",
    "    x = str(lineIsPt.geometry.x[i])\n",
    "    y = str(lineIsPt.geometry.y[i])\n",
    "    xy = y+','+x\n",
    "    resUrl = f'https://gist.motc.gov.tw/gist_api/V2/Map/GeoCode/Address/{xy}?$format=GEOJSON'\n",
    "    res, content = h.request(resUrl)\n",
    "    container.append(json.loads(str(content, encoding = \"utf-8\")))\n",
    "\n",
    "# 查看    \n",
    "container\n",
    "print(len(container)) #10\n",
    "print(type(container)) #<class 'list'>\n",
    "\n",
    "# 發現 5條路變成 10 個點\n",
    "# 合理 -> 一條路有兩個節點(頭尾)\n",
    "\n",
    "# 重組結果資料\n",
    "myResData = []\n",
    "\n",
    "for i in container:\n",
    "    myResData.append([\n",
    "        i['features'][0]['geometry']['coordinates'][0],\n",
    "        i['features'][0]['geometry']['coordinates'][1],\n",
    "        i['features'][0]['properties']['model']['Addr']\n",
    "    ])\n",
    "\n",
    "# 觀察結果資料\n",
    "print(myResData[0],myResData[-1])\n",
    "print(type(myResData[0]))"
   ]
  },
  {
   "cell_type": "code",
   "execution_count": 55,
   "metadata": {},
   "outputs": [
    {
     "name": "stdout",
     "output_type": "stream",
     "text": [
      "120.5996308508481 24.14229158797876 台中市南屯區春社里培德路7號\n",
      "120.6009109336114 24.14252298118082 台中市南屯區春社里精科路2號\n",
      "120.6062307321551 24.14751725360878 台中市南屯區文山里精科路28號\n",
      "120.5996308508481 24.14229158797876 台中市南屯區春社里培德路7號\n",
      "120.6009109336114 24.14252298118082 台中市南屯區春社里精科路2號\n",
      "120.6062307321551 24.14751725360878 台中市南屯區文山里精科路28號\n",
      "120.6082305515638 24.14873859268674 台中市南屯區文山里精科路112號\n",
      "120.5943328215131 24.13940972800623 台中市南屯區春社里中台路310巷1之1號\n",
      "120.6042334419134 24.136863556312 台中市南屯區春社里建功路256巷22號\n",
      "120.6042334419134 24.136863556312 台中市南屯區春社里建功路256巷22號\n"
     ]
    }
   ],
   "source": [
    "# 查看逐筆結果資料\n",
    "for i in myResData:\n",
    "    print(i[0], i[1], i[2]) "
   ]
  },
  {
   "cell_type": "markdown",
   "metadata": {},
   "source": [
    "#### 將 444 個節點計算出來並存成 csv 方便後續檢驗"
   ]
  },
  {
   "cell_type": "code",
   "execution_count": 113,
   "metadata": {},
   "outputs": [],
   "source": [
    "import csv\n",
    "\n",
    "# 開啟輸出的 CSV 檔案\n",
    "with open('addressRes.csv', 'w', newline='') as csvfile:\n",
    "    # 建立 CSV 檔寫入器\n",
    "    writer = csv.writer(csvfile)\n",
    "    # 寫入第一列資料\n",
    "    writer.writerow(['Lon', 'Lat', 'Address'])\n",
    "    \n",
    "    #迴圈寫入資料\n",
    "    for i in myResData:\n",
    "        writer.writerow([i[0], i[1], i[2]])    "
   ]
  },
  {
   "cell_type": "markdown",
   "metadata": {},
   "source": [
    "#### 小結論\n",
    "* 透過節點資料打 TGOS API 取得地址清單\n",
    "* 觀察資料歸納\n",
    "    * 時間問題\n",
    "        * 結果 time out 問題\n",
    "        * 再更多時可能會有 非同步 問題\n",
    "    * 節點問題\n",
    "        * 只有交叉點，沒有路尾點\n",
    "        * 依然仰賴套裝軟體抓取\n",
    "* 存成 CSV 以利後續分析"
   ]
  },
  {
   "cell_type": "markdown",
   "metadata": {},
   "source": [
    "---"
   ]
  },
  {
   "cell_type": "markdown",
   "metadata": {},
   "source": [
    "#### 嘗試透過 shapely + fiona 直接抓取:\n",
    "* 起始點\n",
    "* 結束點\n",
    "* 中間節點\n",
    "\n",
    "* 為了解決節點問題，包含：\n",
    "    * 只有交叉點，沒有路尾點\n",
    "    * 依然仰賴套裝軟體抓取\n",
    "    "
   ]
  },
  {
   "cell_type": "code",
   "execution_count": 115,
   "metadata": {},
   "outputs": [],
   "source": [
    "from shapely.geometry import Point, shape\n",
    "import fiona"
   ]
  },
  {
   "cell_type": "code",
   "execution_count": 489,
   "metadata": {},
   "outputs": [
    {
     "data": {
      "text/plain": [
       "[<shapely.geometry.multilinestring.MultiLineString at 0x12f5d4f90>,\n",
       " <shapely.geometry.multilinestring.MultiLineString at 0x12dc1f450>,\n",
       " <shapely.geometry.multilinestring.MultiLineString at 0x12ec711d0>,\n",
       " <shapely.geometry.multilinestring.MultiLineString at 0x12e72e610>,\n",
       " <shapely.geometry.multilinestring.MultiLineString at 0x12f49ae90>]"
      ]
     },
     "execution_count": 489,
     "metadata": {},
     "output_type": "execute_result"
    }
   ],
   "source": [
    "# 透過 fiona xy 取出 \n",
    "# 目的是直接組成 shapely 格式\n",
    "lines = [\n",
    "    shape(line['geometry']) \n",
    "    for line in fiona.open(\"roadInRangeSample.geojson\")\n",
    "]\n",
    "\n",
    "# 查看前五筆\n",
    "lines[0:5]"
   ]
  },
  {
   "cell_type": "code",
   "execution_count": 492,
   "metadata": {},
   "outputs": [],
   "source": [
    "# 都是 multi\n",
    "# 雙層才能取回逐一的路段\n",
    "for i in lines:\n",
    "    for line in i:\n",
    "        print(line)"
   ]
  },
  {
   "cell_type": "markdown",
   "metadata": {},
   "source": [
    "LINESTRING (120.599907445659 24.14266516824731, 120.5999913549021 24.14268805430268, 120.6001757311819 24.14274498918141, 120.600254656112 24.1427693608955, 120.600459524787 24.14280751856759, 120.601107510771 24.14306928214556)\n",
    "LINESTRING (120.601107510771 24.14306928214556, 120.601575084762 24.14333258754232, 120.6017854075629 24.14366336177752, 120.6020297277266 24.14408333324709, 120.6023645507882 24.14479183179674, 120.6026486578022 24.14527742673277, 120.6029045858159 24.14563976883985, 120.6031891902935 24.14596549286116, 120.6034568048691 24.14624399703564, 120.6037415888613 24.14651206234614, 120.6042887249221 24.146914470374, 120.6047277906611 24.14716720840664, 120.6050757527902 24.1473253591294, 120.6055378958349 24.14750477104731, 120.6061884477823 24.14771611854459, 120.6065251326042 24.1478270617065, 120.6067864506869 24.148021048935)"
   ]
  },
  {
   "cell_type": "code",
   "execution_count": 493,
   "metadata": {},
   "outputs": [],
   "source": [
    "# 取出 路的起點、終點\n",
    "endpts = [\n",
    "    (\n",
    "        Point(list(line.coords)[0]),\n",
    "        Point(list(line.coords)[-1])\n",
    "    )\n",
    "    # 先取出 multiline     \n",
    "    for multiLines in lines\n",
    "    # 再從 multiLine 取出各條路\n",
    "    for line in multiLines\n",
    "]"
   ]
  },
  {
   "cell_type": "code",
   "execution_count": 497,
   "metadata": {},
   "outputs": [
    {
     "name": "stdout",
     "output_type": "stream",
     "text": [
      "682\n",
      "[(<shapely.geometry.point.Point object at 0x12ee36490>, <shapely.geometry.point.Point object at 0x12ee36750>), (<shapely.geometry.point.Point object at 0x12f465410>, <shapely.geometry.point.Point object at 0x12f49a950>), (<shapely.geometry.point.Point object at 0x12ee36990>, <shapely.geometry.point.Point object at 0x12ee36c50>), (<shapely.geometry.point.Point object at 0x12e765750>, <shapely.geometry.point.Point object at 0x12ab5ea50>), (<shapely.geometry.point.Point object at 0x12e765290>, <shapely.geometry.point.Point object at 0x12ee36250>)]\n"
     ]
    }
   ],
   "source": [
    "# 查看多少個點\n",
    "print(len(endpts))\n",
    "\n",
    "# 查看格式\n",
    "print(endpts[0:5])"
   ]
  },
  {
   "cell_type": "markdown",
   "metadata": {},
   "source": [
    "每一個起點、終點都組成一個 list \n",
    "也形成每一段道路清單"
   ]
  },
  {
   "cell_type": "code",
   "execution_count": 145,
   "metadata": {},
   "outputs": [
    {
     "data": {
      "text/plain": [
       "(<shapely.geometry.point.Point at 0x128965b50>,\n",
       " <shapely.geometry.point.Point at 0x1289657d0>)"
      ]
     },
     "execution_count": 145,
     "metadata": {},
     "output_type": "execute_result"
    }
   ],
   "source": [
    "endpts[0]"
   ]
  },
  {
   "cell_type": "markdown",
   "metadata": {},
   "source": [
    "#### 小結論\n",
    "* 透過 shapely + fiona 解決節點問題\n",
    "    * 抓取 交叉點、起點、終點\n",
    "    * 完整 程式流程 抓取而不仰賴套裝軟體\n",
    "* 問題\n",
    "    * 太多 multi line 使得整體狀況仍顯得複雜\n",
    "        * 嘗試透過更簡單的線段進行分析\n",
    "    * 此外，透過 API 回傳的地址到底準不準?影響後續要給的道路清單\n",
    "    * 這邊也嘗試進行檢驗"
   ]
  },
  {
   "cell_type": "markdown",
   "metadata": {},
   "source": [
    "---"
   ]
  },
  {
   "cell_type": "markdown",
   "metadata": {},
   "source": [
    "#### 取出簡單線段進行檢驗\n",
    "* 用單純線嘗試"
   ]
  },
  {
   "cell_type": "code",
   "execution_count": 498,
   "metadata": {},
   "outputs": [],
   "source": [
    "import geopandas as gpd\n",
    "\n",
    "# 引入簡單線段\n",
    "singleRoad=gpd.read_file('./singleRoadExample.geojson',encoding='utf-8')"
   ]
  },
  {
   "cell_type": "code",
   "execution_count": 248,
   "metadata": {},
   "outputs": [
    {
     "data": {
      "text/plain": [
       "<matplotlib.axes._subplots.AxesSubplot at 0x12a1d65d0>"
      ]
     },
     "execution_count": 248,
     "metadata": {},
     "output_type": "execute_result"
    },
    {
     "data": {
      "image/png": "[encoded data removed]",
      "text/plain": [
       "<Figure size 432x288 with 1 Axes>"
      ]
     },
     "metadata": {
      "needs_background": "light"
     },
     "output_type": "display_data"
    }
   ],
   "source": [
    "# 檢查形狀\n",
    "singleRoad.plot()"
   ]
  },
  {
   "cell_type": "code",
   "execution_count": 499,
   "metadata": {},
   "outputs": [
    {
     "data": {
      "text/plain": [
       "[['保安八街', <shapely.geometry.multilinestring.MultiLineString at 0x12dd11550>],\n",
       " ['保安十街', <shapely.geometry.multilinestring.MultiLineString at 0x12dd11250>],\n",
       " ['保安九街', <shapely.geometry.multilinestring.MultiLineString at 0x12e839e50>],\n",
       " ['文山五街', <shapely.geometry.multilinestring.MultiLineString at 0x12ead7950>],\n",
       " ['文山三街', <shapely.geometry.multilinestring.MultiLineString at 0x12e839bd0>]]"
      ]
     },
     "execution_count": 499,
     "metadata": {},
     "output_type": "execute_result"
    }
   ],
   "source": [
    "\n",
    "from shapely.geometry import Point, shape\n",
    "import fiona\n",
    "\n",
    "# 除了取出 xy，更取出原始道路名稱以利後面比對\n",
    "lines = [[line['properties']['NAME'],shape(line['geometry'])] for line in fiona.open(\"./singleRoadExample.geojson\")]\n",
    "# 變成 shapely 格式\n",
    "lines"
   ]
  },
  {
   "cell_type": "markdown",
   "metadata": {},
   "source": [
    "##### 目標：組成 geopandas data frame 以利後續分析"
   ]
  },
  {
   "cell_type": "code",
   "execution_count": 264,
   "metadata": {},
   "outputs": [
    {
     "name": "stdout",
     "output_type": "stream",
     "text": [
      "   NAME ALIAS  CLASS INDEX  TYPE RNAME SNAME LNAME ANAME FACILITY  STOP  \\\n",
      "0  保安八街  保安八街      6  None     1  保安八街  None  None  None     None  None   \n",
      "1  保安十街  保安十街      6  None     1  保安十街  None  None  None     None  None   \n",
      "2  保安九街  保安九街      6  None     1  保安九街  None  None  None     None  None   \n",
      "\n",
      "   LENGTH                                           geometry  \n",
      "0     156  MULTILINESTRING ((120.60893 24.14627, 120.6088...  \n",
      "1     189  MULTILINESTRING ((120.60923 24.14995, 120.6092...  \n",
      "2     211  MULTILINESTRING ((120.60855 24.14637, 120.6085...  \n",
      "<class 'shapely.geometry.linestring.LineString'>\n"
     ]
    }
   ],
   "source": [
    "# 測試\n",
    "import geopandas as gpd\n",
    "\n",
    "# 從 geopandas 格式觀察 geometry 格式\n",
    "lines_geopandas=gpd.read_file('./singleRoadExample.geojson',encoding='utf-8')\n",
    "\n",
    "print(lines_geopandas.head(3))\n",
    "\n",
    "# 此時取出的 geometry 就是 shapely 格式\n",
    "for i in lines_geopandas['geometry'][0]:\n",
    "    # shapely.geometry.linestring.LineString'\n",
    "    print(type(i))"
   ]
  },
  {
   "cell_type": "code",
   "execution_count": 310,
   "metadata": {},
   "outputs": [
    {
     "name": "stdout",
     "output_type": "stream",
     "text": [
      "           City    Country  Latitude  Longitude\n",
      "0  Buenos Aires  Argentina    -34.58     -58.66\n",
      "1      Brasilia     Brazil    -15.78     -47.91\n",
      "2      Santiago      Chile    -33.45     -70.66\n",
      "3        Bogota   Colombia      4.60     -74.08\n",
      "4       Caracas  Venezuela     10.48     -66.86\n",
      "=========================\n",
      "           City    Country  Latitude  Longitude\n",
      "0  Buenos Aires  Argentina   -34.580 -58.660000\n",
      "1      Brasilia     Brazil   -15.780 -47.910000\n",
      "2      Santiago      Chile   -33.450 -70.660000\n",
      "3        Bogota   Colombia     4.600 -74.080000\n",
      "4       Caracas  Venezuela    10.480 -66.860000\n",
      "0          Test       Test   132.311  23.243242\n"
     ]
    }
   ],
   "source": [
    "# 測試\n",
    "# 如何添加 panda dataframe 格式\n",
    "\n",
    "df = pd.DataFrame(\n",
    "    {'City': ['Buenos Aires', 'Brasilia', 'Santiago', 'Bogota', 'Caracas'],\n",
    "     'Country': ['Argentina', 'Brazil', 'Chile', 'Colombia', 'Venezuela'],\n",
    "     'Latitude': [-34.58, -15.78, -33.45, 4.60, 10.48],\n",
    "     'Longitude': [-58.66, -47.91, -70.66, -74.08, -66.86]})\n",
    "\n",
    "print(df)\n",
    "print(\"=========================\")\n",
    "\n",
    "# 新增欄位\n",
    "test = pd.DataFrame({\n",
    "    \"City\": [\"Test\"],\n",
    "    \"Country\": [\"Test\"],\n",
    "    \"Latitude\":  [132.311],\n",
    "    \"Longitude\": [23.243242],\n",
    "})\n",
    "\n",
    "df = df.append(test)\n",
    "print(df)"
   ]
  },
  {
   "cell_type": "markdown",
   "metadata": {},
   "source": [
    "* 由於 geoDataFrames 就是以 Shapely 進行儲存\n",
    "* 故這邊繼續以 Shapely 進行處理"
   ]
  },
  {
   "cell_type": "markdown",
   "metadata": {},
   "source": [
    "先將 multi 轉成 single 並且取出節點"
   ]
  },
  {
   "cell_type": "code",
   "execution_count": 500,
   "metadata": {},
   "outputs": [
    {
     "data": {
      "text/plain": [
       "[['保安八街',\n",
       "  (<shapely.geometry.point.Point at 0x12ee2b290>,\n",
       "   <shapely.geometry.point.Point at 0x12ec7d1d0>)],\n",
       " ['保安十街',\n",
       "  (<shapely.geometry.point.Point at 0x12ee2bb90>,\n",
       "   <shapely.geometry.point.Point at 0x12dea0910>)],\n",
       " ['保安九街',\n",
       "  (<shapely.geometry.point.Point at 0x12ee2b3d0>,\n",
       "   <shapely.geometry.point.Point at 0x12ec7d990>)],\n",
       " ['文山五街',\n",
       "  (<shapely.geometry.point.Point at 0x12e731a90>,\n",
       "   <shapely.geometry.point.Point at 0x12ec7d8d0>)],\n",
       " ['文山三街',\n",
       "  (<shapely.geometry.point.Point at 0x12e2e8b50>,\n",
       "   <shapely.geometry.point.Point at 0x12e2e83d0>)]]"
      ]
     },
     "execution_count": 500,
     "metadata": {},
     "output_type": "execute_result"
    }
   ],
   "source": [
    "# 取出各條路及其節點\n",
    "\n",
    "endpts = [[\n",
    "    multiLines[0],\n",
    "    (     \n",
    "        # 再加入是哪一條線\n",
    "        # 每一個起始、終點湊成一條路就是一個單位\n",
    "        Point(list(line.coords)[0]),\n",
    "        Point(list(line.coords)[-1])\n",
    "     )\n",
    "    ]\n",
    "    # 先取出 multiline     \n",
    "    for multiLines in lines\n",
    "    # 再從 multiLine 取出各條路\n",
    "    for line in multiLines[1]\n",
    "]\n",
    "\n",
    "# 得到起始點、結束點、原始道路名稱 list\n",
    "endpts"
   ]
  },
  {
   "cell_type": "markdown",
   "metadata": {},
   "source": [
    "##### panda DataFrame 新增欄位方式\n",
    "\n",
    "* 道路節點資料表結構定義\n",
    "\n",
    "```python\n",
    "gpd_test = gpd.GeoDataFrame({\n",
    "    \"Road_Index\": index\n",
    "    \"Geometry\": endpts[0]\n",
    "})\n",
    "```"
   ]
  },
  {
   "cell_type": "code",
   "execution_count": 378,
   "metadata": {},
   "outputs": [
    {
     "data": {
      "text/html": [
       "<div>\n",
       "<style scoped>\n",
       "    .dataframe tbody tr th:only-of-type {\n",
       "        vertical-align: middle;\n",
       "    }\n",
       "\n",
       "    .dataframe tbody tr th {\n",
       "        vertical-align: top;\n",
       "    }\n",
       "\n",
       "    .dataframe thead th {\n",
       "        text-align: right;\n",
       "    }\n",
       "</style>\n",
       "<table border=\"1\" class=\"dataframe\">\n",
       "  <thead>\n",
       "    <tr style=\"text-align: right;\">\n",
       "      <th></th>\n",
       "      <th>Road_Index</th>\n",
       "      <th>Road_Name</th>\n",
       "      <th>geometry</th>\n",
       "    </tr>\n",
       "  </thead>\n",
       "  <tbody>\n",
       "    <tr>\n",
       "      <td>0</td>\n",
       "      <td>0</td>\n",
       "      <td>保安八街</td>\n",
       "      <td>POINT (120.60893 24.14627)</td>\n",
       "    </tr>\n",
       "    <tr>\n",
       "      <td>1</td>\n",
       "      <td>0</td>\n",
       "      <td>保安八街</td>\n",
       "      <td>POINT (120.60835 24.14484)</td>\n",
       "    </tr>\n",
       "    <tr>\n",
       "      <td>0</td>\n",
       "      <td>1</td>\n",
       "      <td>保安十街</td>\n",
       "      <td>POINT (120.60923 24.14995)</td>\n",
       "    </tr>\n",
       "    <tr>\n",
       "      <td>1</td>\n",
       "      <td>1</td>\n",
       "      <td>保安十街</td>\n",
       "      <td>POINT (120.60767 24.14659)</td>\n",
       "    </tr>\n",
       "    <tr>\n",
       "      <td>0</td>\n",
       "      <td>2</td>\n",
       "      <td>保安九街</td>\n",
       "      <td>POINT (120.60855 24.14637)</td>\n",
       "    </tr>\n",
       "    <tr>\n",
       "      <td>1</td>\n",
       "      <td>2</td>\n",
       "      <td>保安九街</td>\n",
       "      <td>POINT (120.60915 24.14819)</td>\n",
       "    </tr>\n",
       "    <tr>\n",
       "      <td>0</td>\n",
       "      <td>3</td>\n",
       "      <td>文山五街</td>\n",
       "      <td>POINT (120.60805 24.14869)</td>\n",
       "    </tr>\n",
       "    <tr>\n",
       "      <td>1</td>\n",
       "      <td>3</td>\n",
       "      <td>文山五街</td>\n",
       "      <td>POINT (120.60915 24.14819)</td>\n",
       "    </tr>\n",
       "    <tr>\n",
       "      <td>0</td>\n",
       "      <td>4</td>\n",
       "      <td>文山三街</td>\n",
       "      <td>POINT (120.60691 24.14677)</td>\n",
       "    </tr>\n",
       "    <tr>\n",
       "      <td>1</td>\n",
       "      <td>4</td>\n",
       "      <td>文山三街</td>\n",
       "      <td>POINT (120.60997 24.14605)</td>\n",
       "    </tr>\n",
       "  </tbody>\n",
       "</table>\n",
       "</div>"
      ],
      "text/plain": [
       "   Road_Index Road_Name                    geometry\n",
       "0           0      保安八街  POINT (120.60893 24.14627)\n",
       "1           0      保安八街  POINT (120.60835 24.14484)\n",
       "0           1      保安十街  POINT (120.60923 24.14995)\n",
       "1           1      保安十街  POINT (120.60767 24.14659)\n",
       "0           2      保安九街  POINT (120.60855 24.14637)\n",
       "1           2      保安九街  POINT (120.60915 24.14819)\n",
       "0           3      文山五街  POINT (120.60805 24.14869)\n",
       "1           3      文山五街  POINT (120.60915 24.14819)\n",
       "0           4      文山三街  POINT (120.60691 24.14677)\n",
       "1           4      文山三街  POINT (120.60997 24.14605)"
      ]
     },
     "execution_count": 378,
     "metadata": {},
     "output_type": "execute_result"
    }
   ],
   "source": [
    "# 組成 道路節點 GeoDataFrame\n",
    "index = 0\n",
    "gpd_road_nodes = gpd.GeoDataFrame()\n",
    "\n",
    "# 資料欄位定義\n",
    "for pt in endpts:\n",
    "    pt = gpd.GeoDataFrame({\n",
    "        \"Road_Index\": index,\n",
    "        \"Road_Name\":pt[0],\n",
    "        \"geometry\": pt[1]\n",
    "    })\n",
    "    \n",
    "    gpd_road_nodes = gpd_road_nodes.append(pt)\n",
    "    index += 1\n",
    "gpd_road_nodes"
   ]
  },
  {
   "cell_type": "code",
   "execution_count": 504,
   "metadata": {},
   "outputs": [
    {
     "data": {
      "text/plain": [
       "<matplotlib.axes._subplots.AxesSubplot at 0x12f75c410>"
      ]
     },
     "execution_count": 504,
     "metadata": {},
     "output_type": "execute_result"
    },
    {
     "data": {
      "image/png": "[encoded data removed]",
      "text/plain": [
       "<Figure size 432x288 with 1 Axes>"
      ]
     },
     "metadata": {
      "needs_background": "light"
     },
     "output_type": "display_data"
    }
   ],
   "source": [
    "# 繪製取得節點並且查看是否對應道路\n",
    "road = singleRoad.plot(color=\"yellow\")\n",
    "gpd_road_nodes.plot(ax=road)"
   ]
  },
  {
   "cell_type": "markdown",
   "metadata": {},
   "source": [
    "結果完全對應"
   ]
  },
  {
   "cell_type": "markdown",
   "metadata": {},
   "source": [
    "#### 小結論\n",
    "* 為了確認取得的節點是否真的是我們要的\n",
    "* 這邊進行了一系列轉換最後透過 gpd 呈現發現完全一致\n",
    "\n",
    "* 問題：\n",
    "    * 透過 API 回傳的地址到底準不準?\n",
    "        * 影響後續給的清單"
   ]
  },
  {
   "cell_type": "markdown",
   "metadata": {},
   "source": [
    "---"
   ]
  },
  {
   "cell_type": "code",
   "execution_count": null,
   "metadata": {},
   "outputs": [],
   "source": []
  }
 ],
 "metadata": {
  "kernelspec": {
   "display_name": "Python 3",
   "language": "python",
   "name": "python3"
  },
  "language_info": {
   "codemirror_mode": {
    "name": "ipython",
    "version": 3
   },
   "file_extension": ".py",
   "mimetype": "text/x-python",
   "name": "python",
   "nbconvert_exporter": "python",
   "pygments_lexer": "ipython3",
   "version": "3.7.4"
  }
 },
 "nbformat": 4,
 "nbformat_minor": 4
}
